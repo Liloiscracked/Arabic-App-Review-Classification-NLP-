{
 "cells": [
  {
   "cell_type": "markdown",
   "id": "296578c7",
   "metadata": {},
   "source": [
    "## Using Marbert Embeddings"
   ]
  },
  {
   "cell_type": "code",
   "execution_count": 1,
   "id": "379b21bf",
   "metadata": {},
   "outputs": [
    {
     "name": "stderr",
     "output_type": "stream",
     "text": [
      "BertForMaskedLM has generative capabilities, as `prepare_inputs_for_generation` is explicitly overwritten. However, it doesn't directly inherit from `GenerationMixin`. From 👉v4.50👈 onwards, `PreTrainedModel` will NOT inherit from `GenerationMixin`, and this model will lose the ability to call `generate` and other related functions.\n",
      "  - If you're using `trust_remote_code=True`, you can get rid of this warning by loading the model with an auto class. See https://huggingface.co/docs/transformers/en/model_doc/auto#auto-classes\n",
      "  - If you are the owner of the model architecture code, please modify your model class such that it inherits from `GenerationMixin` (after `PreTrainedModel`, otherwise you'll get an exception).\n",
      "  - If you are not the owner of the model architecture class, please contact the model code owner to update it.\n",
      "Some weights of the model checkpoint at UBC-NLP/MARBERT were not used when initializing BertForMaskedLM: ['bert.pooler.dense.bias', 'bert.pooler.dense.weight', 'cls.seq_relationship.bias', 'cls.seq_relationship.weight']\n",
      "- This IS expected if you are initializing BertForMaskedLM from the checkpoint of a model trained on another task or with another architecture (e.g. initializing a BertForSequenceClassification model from a BertForPreTraining model).\n",
      "- This IS NOT expected if you are initializing BertForMaskedLM from the checkpoint of a model that you expect to be exactly identical (initializing a BertForSequenceClassification model from a BertForSequenceClassification model).\n"
     ]
    }
   ],
   "source": [
    "from transformers import AutoTokenizer, AutoModelForMaskedLM\n",
    "\n",
    "tokenizer = AutoTokenizer.from_pretrained(\"UBC-NLP/MARBERT\")\n",
    "model = AutoModelForMaskedLM.from_pretrained(\"UBC-NLP/MARBERT\")\n"
   ]
  },
  {
   "cell_type": "markdown",
   "id": "5c6d0472",
   "metadata": {},
   "source": [
    "## Imports"
   ]
  },
  {
   "cell_type": "code",
   "execution_count": 2,
   "id": "e545eccd",
   "metadata": {},
   "outputs": [],
   "source": [
    "import pandas as pd\n",
    "import numpy as np\n",
    "import matplotlib.pyplot as plt\n",
    "import seaborn as sns\n",
    "from sklearn.model_selection import train_test_split\n",
    "from sklearn.metrics import classification_report, confusion_matrix, accuracy_score\n",
    "from collections import Counter\n",
    "import re\n",
    "import tensorflow as tf\n",
    "from tensorflow.keras.preprocessing.text import Tokenizer\n",
    "from tensorflow.keras.preprocessing.sequence import pad_sequences\n",
    "from tensorflow.keras.models import Sequential\n",
    "from tensorflow.keras.layers import Embedding, LSTM, GRU, Bidirectional, Dense, Dropout\n",
    "import random\n",
    "\n",
    "np.random.seed(777)\n",
    "tf.random.set_seed(777)\n",
    "random.seed(777)"
   ]
  },
  {
   "cell_type": "markdown",
   "id": "0b19dd67",
   "metadata": {},
   "source": []
  },
  {
   "cell_type": "code",
   "execution_count": 9,
   "id": "05070ce2",
   "metadata": {},
   "outputs": [
    {
     "name": "stdout",
     "output_type": "stream",
     "text": [
      "Dataset shape: (2900, 5)\n",
      "\n",
      "Sample data:\n",
      "                                              review  bug_report  \\\n",
      "0                                 يبيله تصليحات كثير           1   \n",
      "1                  ماتحملت ابدددددا ونا دفعت فلوس 🤔😕           0   \n",
      "2  اتمنى منكم عمل خيار لتفضيل المسلسل بالكامل عوض...           0   \n",
      "3      ممتاز وبسيط وتشغيله لا يؤثر على سرعة الانترنت           0   \n",
      "4                                تبين م لي ي تم ل يب           0   \n",
      "\n",
      "   improvement_request  rating  others  \n",
      "0                    1       1       0  \n",
      "1                    1       1       1  \n",
      "2                    1       1       0  \n",
      "3                    0       1       0  \n",
      "4                    0       1       1  \n",
      "\n",
      "Missing values:\n",
      "review                 0\n",
      "bug_report             0\n",
      "improvement_request    0\n",
      "rating                 0\n",
      "others                 0\n",
      "dtype: int64\n",
      "\n",
      "Basic statistics:\n",
      "                 review   bug_report  improvement_request       rating  \\\n",
      "count              2900  2900.000000          2900.000000  2900.000000   \n",
      "unique             2892          NaN                  NaN          NaN   \n",
      "top     التطبيق لا يعمل          NaN                  NaN          NaN   \n",
      "freq                  3          NaN                  NaN          NaN   \n",
      "mean                NaN     0.401379             0.380345     0.679655   \n",
      "std                 NaN     0.490262             0.485555     0.466690   \n",
      "min                 NaN     0.000000             0.000000     0.000000   \n",
      "25%                 NaN     0.000000             0.000000     0.000000   \n",
      "50%                 NaN     0.000000             0.000000     1.000000   \n",
      "75%                 NaN     1.000000             1.000000     1.000000   \n",
      "max                 NaN     1.000000             1.000000     1.000000   \n",
      "\n",
      "             others  \n",
      "count   2900.000000  \n",
      "unique          NaN  \n",
      "top             NaN  \n",
      "freq            NaN  \n",
      "mean       0.282759  \n",
      "std        0.450418  \n",
      "min        0.000000  \n",
      "25%        0.000000  \n",
      "50%        0.000000  \n",
      "75%        1.000000  \n",
      "max        1.000000  \n"
     ]
    }
   ],
   "source": [
    "df = pd.read_csv('Data/App Reviews-Multilabel.csv')\n",
    "\n",
    "\n",
    "print(f\"Dataset shape: {df.shape}\")\n",
    "print(\"\\nSample data:\")\n",
    "print(df.head())\n",
    "\n",
    "print(\"\\nMissing values:\")\n",
    "print(df.isnull().sum())\n",
    "\n",
    "print(\"\\nBasic statistics:\")\n",
    "print(df.describe(include='all'))"
   ]
  },
  {
   "cell_type": "markdown",
   "id": "b72ff1c7",
   "metadata": {},
   "source": [
    "## Analysis"
   ]
  },
  {
   "cell_type": "code",
   "execution_count": 10,
   "id": "7383255a",
   "metadata": {},
   "outputs": [
    {
     "name": "stdout",
     "output_type": "stream",
     "text": [
      "Label distribution (number of samples where label = 1):\n",
      "rating                 1971\n",
      "bug_report             1164\n",
      "improvement_request    1103\n",
      "others                  820\n",
      "dtype: int64\n",
      "\n",
      "Label percentages:\n",
      "rating                 67.97\n",
      "bug_report             40.14\n",
      "improvement_request    38.03\n",
      "others                 28.28\n",
      "dtype: float64\n"
     ]
    },
    {
     "data": {
      "image/png": "[encoded data removed]",
      "text/plain": [
       "<Figure size 800x600 with 1 Axes>"
      ]
     },
     "metadata": {},
     "output_type": "display_data"
    },
    {
     "data": {
      "image/png": "[encoded data removed]",
      "text/plain": [
       "<Figure size 1200x500 with 2 Axes>"
      ]
     },
     "metadata": {},
     "output_type": "display_data"
    },
    {
     "name": "stdout",
     "output_type": "stream",
     "text": [
      "\n",
      "📊 Text length stats for label: 'bug_report'\n",
      "             count       mean         std   min   25%   50%    75%     max\n",
      "bug_report                                                                \n",
      "0           1736.0  68.113479  100.145418  10.0  30.0  45.0   75.0  3166.0\n",
      "1           1164.0  84.134880   67.613742  13.0  41.0  64.5  103.0   500.0\n",
      "\n",
      "📊 Word count stats for label: 'bug_report'\n",
      "             count       mean        std  min  25%   50%   75%    max\n",
      "bug_report                                                           \n",
      "0           1736.0  12.178571  17.693266  3.0  6.0   8.0  13.0  576.0\n",
      "1           1164.0  15.599656  12.401614  3.0  8.0  12.0  19.0   99.0\n",
      "\n",
      "📊 Text length stats for label: 'improvement_request'\n",
      "                      count       mean        std   min   25%   50%    75%  \\\n",
      "improvement_request                                                          \n",
      "0                    1797.0  66.489149  94.841449  10.0  30.0  46.0   75.0   \n",
      "1                    1103.0  87.667271  76.414400  11.0  40.0  63.0  106.0   \n",
      "\n",
      "                        max  \n",
      "improvement_request          \n",
      "0                    3166.0  \n",
      "1                     500.0  \n",
      "\n",
      "📊 Word count stats for label: 'improvement_request'\n",
      "                      count       mean        std  min  25%   50%   75%    max\n",
      "improvement_request                                                           \n",
      "0                    1797.0  12.055648  16.793758  3.0  6.0   9.0  14.0  576.0\n",
      "1                    1103.0  15.989121  13.904910  3.0  7.0  12.0  19.0   99.0\n",
      "\n",
      "📊 Text length stats for label: 'rating'\n",
      "         count       mean         std   min   25%   50%   75%     max\n",
      "rating                                                               \n",
      "0        929.0  77.150700  122.598381  11.0  34.0  52.0  85.0  3166.0\n",
      "1       1971.0  73.315576   67.360240  10.0  33.5  52.0  85.0   500.0\n",
      "\n",
      "📊 Word count stats for label: 'rating'\n",
      "         count       mean        std  min  25%   50%   75%    max\n",
      "rating                                                           \n",
      "0        929.0  13.933262  21.868678  3.0  6.0  10.0  16.0  576.0\n",
      "1       1971.0  13.371892  12.052432  3.0  6.0   9.0  16.0  100.0\n",
      "\n",
      "📊 Text length stats for label: 'others'\n",
      "         count       mean         std   min   25%   50%    75%     max\n",
      "others                                                                \n",
      "0       2080.0  70.562019   58.466864  10.0  35.0  54.0  85.00   500.0\n",
      "1        820.0  84.645122  138.334316  11.0  32.0  50.0  88.25  3166.0\n",
      "\n",
      "📊 Word count stats for label: 'others'\n",
      "         count       mean        std  min  25%   50%    75%    max\n",
      "others                                                            \n",
      "0       2080.0  12.963462  10.613441  3.0  6.0  10.0  16.00   94.0\n",
      "1        820.0  15.043902  24.545550  3.0  6.0   9.0  15.25  576.0\n"
     ]
    }
   ],
   "source": [
    "import pandas as pd\n",
    "import seaborn as sns\n",
    "import matplotlib.pyplot as plt\n",
    "\n",
    "label_cols = ['bug_report', 'improvement_request', 'rating', 'others']\n",
    "\n",
    "# ✅ Count of label presence per column\n",
    "label_counts = df[label_cols].sum().sort_values(ascending=False)\n",
    "\n",
    "print(\"Label distribution (number of samples where label = 1):\")\n",
    "print(label_counts)\n",
    "\n",
    "print(\"\\nLabel percentages:\")\n",
    "print(round((label_counts / len(df)) * 100, 2))\n",
    "\n",
    "# ✅ Plot label distribution\n",
    "plt.figure(figsize=(8, 6))\n",
    "sns.barplot(x=label_counts.values, y=label_counts.index)\n",
    "plt.title('Label Occurrence in Dataset')\n",
    "plt.xlabel('Count')\n",
    "plt.ylabel('Label')\n",
    "plt.tight_layout()\n",
    "plt.show()\n",
    "\n",
    "# ✅ Text statistics\n",
    "df['text_length'] = df['review'].astype(str).apply(len)\n",
    "df['word_count'] = df['review'].astype(str).apply(lambda x: len(x.split()))\n",
    "\n",
    "# ✅ Plot text length and word count distributions\n",
    "plt.figure(figsize=(12, 5))\n",
    "\n",
    "plt.subplot(1, 2, 1)\n",
    "sns.histplot(df['text_length'], bins=50)\n",
    "plt.title('Distribution of Text Length (Characters)')\n",
    "plt.xlabel('Number of Characters')\n",
    "\n",
    "plt.subplot(1, 2, 2)\n",
    "sns.histplot(df['word_count'], bins=50)\n",
    "plt.title('Distribution of Word Count')\n",
    "plt.xlabel('Number of Words')\n",
    "\n",
    "plt.tight_layout()\n",
    "plt.show()\n",
    "\n",
    "# ✅ Length statistics per label presence\n",
    "for col in label_cols:\n",
    "    print(f\"\\n📊 Text length stats for label: '{col}'\")\n",
    "    print(df.groupby(col)['text_length'].describe())\n",
    "\n",
    "    print(f\"\\n📊 Word count stats for label: '{col}'\")\n",
    "    print(df.groupby(col)['word_count'].describe())\n"
   ]
  },
  {
   "cell_type": "markdown",
   "id": "de7555f3",
   "metadata": {},
   "source": [
    "## Preprocessing\n"
   ]
  },
  {
   "cell_type": "code",
   "execution_count": 11,
   "id": "15ef2d1c",
   "metadata": {},
   "outputs": [
    {
     "name": "stdout",
     "output_type": "stream",
     "text": [
      "Original vs Processed Text Examples:\n",
      "Original: يبيله تصليحات كثير\n",
      "Processed: يبيله تصليحات كثير\n",
      "\n",
      "Original: ماتحملت ابدددددا ونا دفعت فلوس 🤔😕\n",
      "Processed: ماتحملت ابدددددا ونا دفعت فلوس\n",
      "\n",
      "Original: اتمنى منكم عمل خيار لتفضيل المسلسل بالكامل عوضاً عن تفضيل الحلقات فقط\n",
      "وشكراً\n",
      "Processed: اتمنى منكم عمل خيار لتفضيل المسلسل بالكامل عوضا عن تفضيل الحلقات فقط وشكرا\n",
      "\n"
     ]
    }
   ],
   "source": [
    "def preprocess_text(text):\n",
    "    text = text.lower()\n",
    "    \n",
    "    text = re.sub(r'[^\\w\\s]', '', text)\n",
    "    \n",
    "    text = re.sub(r'\\s+', ' ', text).strip()\n",
    "    \n",
    "    return text\n",
    "\n",
    "df['processed_text'] = df['review'].apply(preprocess_text)\n",
    "\n",
    "print(\"Original vs Processed Text Examples:\")\n",
    "for i in range(3):\n",
    "    print(f\"Original: {df['review'].iloc[i]}\")\n",
    "    print(f\"Processed: {df['processed_text'].iloc[i]}\")\n",
    "    print()"
   ]
  },
  {
   "cell_type": "markdown",
   "id": "bf490952",
   "metadata": {},
   "source": [
    "# Data split"
   ]
  },
  {
   "cell_type": "code",
   "execution_count": 12,
   "id": "449b184a",
   "metadata": {},
   "outputs": [
    {
     "name": "stdout",
     "output_type": "stream",
     "text": [
      "Train set size: 1885\n",
      "Validation set size: 435\n",
      "Test set size: 580\n",
      "\n",
      "Train set label distribution (count of 1s):\n",
      "bug_report              757\n",
      "improvement_request     740\n",
      "rating                 1273\n",
      "others                  520\n",
      "dtype: int64\n",
      "\n",
      "Validation set label distribution (count of 1s):\n",
      "bug_report             162\n",
      "improvement_request    147\n",
      "rating                 303\n",
      "others                 146\n",
      "dtype: int64\n",
      "\n",
      "Test set label distribution (count of 1s):\n",
      "bug_report             245\n",
      "improvement_request    216\n",
      "rating                 395\n",
      "others                 154\n",
      "dtype: int64\n"
     ]
    }
   ],
   "source": [
    "from sklearn.model_selection import train_test_split\n",
    "import numpy as np\n",
    "\n",
    "# Inputs and labels\n",
    "X = df['processed_text'].values\n",
    "y = df[['bug_report', 'improvement_request', 'rating', 'others']].values  # shape: [n_samples, 4]\n",
    "\n",
    "# Manual shuffle\n",
    "np.random.seed(777)\n",
    "indices = np.arange(len(X))\n",
    "np.random.shuffle(indices)\n",
    "\n",
    "X = X[indices]\n",
    "y = y[indices]\n",
    "\n",
    "# Split proportions\n",
    "n_total = len(X)\n",
    "n_test = int(0.2 * n_total)\n",
    "n_val = int(0.15 * n_total)\n",
    "\n",
    "X_train_val, X_test = X[:n_total - n_test], X[n_total - n_test:]\n",
    "y_train_val, y_test = y[:n_total - n_test], y[n_total - n_test:]\n",
    "\n",
    "X_train, X_val = X_train_val[:-n_val], X_train_val[-n_val:]\n",
    "y_train, y_val = y_train_val[:-n_val], y_train_val[-n_val:]\n",
    "\n",
    "# Print sizes\n",
    "print(f\"Train set size: {len(X_train)}\")\n",
    "print(f\"Validation set size: {len(X_val)}\")\n",
    "print(f\"Test set size: {len(X_test)}\")\n",
    "\n",
    "# Print label distribution\n",
    "def print_label_distribution(name, y_subset):\n",
    "    print(f\"\\n{name} set label distribution (count of 1s):\")\n",
    "    label_cols = ['bug_report', 'improvement_request', 'rating', 'others']\n",
    "    df_subset = pd.DataFrame(y_subset, columns=label_cols)\n",
    "    print(df_subset.sum())\n",
    "\n",
    "print_label_distribution(\"Train\", y_train)\n",
    "print_label_distribution(\"Validation\", y_val)\n",
    "print_label_distribution(\"Test\", y_test)\n"
   ]
  },
  {
   "cell_type": "markdown",
   "id": "261f00ec",
   "metadata": {},
   "source": [
    "## Tokenizer"
   ]
  },
  {
   "cell_type": "code",
   "execution_count": 13,
   "id": "3662ed4d",
   "metadata": {},
   "outputs": [],
   "source": [
    "from transformers import AutoTokenizer\n",
    "\n",
    "tokenizer = AutoTokenizer.from_pretrained(\"UBC-NLP/MARBERT\")\n",
    "\n",
    "def tokenize_texts(texts, max_length=128):\n",
    "    return tokenizer(\n",
    "        list(texts),\n",
    "        padding=\"max_length\",\n",
    "        truncation=True,\n",
    "        max_length=max_length,\n",
    "        return_tensors=\"pt\"\n",
    "    )\n",
    "\n",
    "# Tokenize each split\n",
    "tokenized_train = tokenize_texts(X_train)\n",
    "tokenized_val = tokenize_texts(X_val)\n",
    "tokenized_test = tokenize_texts(X_test)\n"
   ]
  },
  {
   "cell_type": "markdown",
   "id": "9bd05bd4",
   "metadata": {},
   "source": [
    "## Dataset Class"
   ]
  },
  {
   "cell_type": "code",
   "execution_count": 14,
   "id": "7b194a29",
   "metadata": {},
   "outputs": [],
   "source": [
    "from torch.utils.data import Dataset\n",
    "import torch\n",
    "\n",
    "class ArabicMultiLabelDataset(Dataset):\n",
    "    def __init__(self, tokenized_data, labels):\n",
    "        self.input_ids = tokenized_data[\"input_ids\"]\n",
    "        self.attention_mask = tokenized_data[\"attention_mask\"]\n",
    "        self.labels = torch.tensor(labels, dtype=torch.float32)  # shape: [N, 4]\n",
    "\n",
    "    def __len__(self):\n",
    "        return self.labels.shape[0]\n",
    "\n",
    "    def __getitem__(self, idx):\n",
    "        return {\n",
    "            \"input_ids\": self.input_ids[idx],\n",
    "            \"attention_mask\": self.attention_mask[idx],\n",
    "            \"labels\": self.labels[idx]\n",
    "        }\n"
   ]
  },
  {
   "cell_type": "markdown",
   "id": "903bee30",
   "metadata": {},
   "source": [
    "## Dataloader"
   ]
  },
  {
   "cell_type": "code",
   "execution_count": 15,
   "id": "de05382d",
   "metadata": {},
   "outputs": [],
   "source": [
    "from torch.utils.data import DataLoader\n",
    "\n",
    "batch_size = 16\n",
    "\n",
    "train_dataset = ArabicMultiLabelDataset(tokenized_train, y_train)\n",
    "val_dataset = ArabicMultiLabelDataset(tokenized_val, y_val)\n",
    "test_dataset = ArabicMultiLabelDataset(tokenized_test, y_test)\n",
    "\n",
    "train_loader = DataLoader(train_dataset, batch_size=batch_size, shuffle=True)\n",
    "val_loader = DataLoader(val_dataset, batch_size=batch_size)\n",
    "test_loader = DataLoader(test_dataset, batch_size=batch_size)\n"
   ]
  },
  {
   "cell_type": "markdown",
   "id": "22ecfba4",
   "metadata": {},
   "source": [
    "## Bidirectional GRU Model"
   ]
  },
  {
   "cell_type": "code",
   "execution_count": null,
   "id": "16141b5f",
   "metadata": {},
   "outputs": [],
   "source": [
    "import torch\n",
    "import torch.nn as nn\n",
    "from torch.utils.data import DataLoader\n",
    "from transformers import AutoModel\n",
    "from tqdm import tqdm\n",
    "\n",
    "class BiGRUMultiLabelModel(nn.Module):\n",
    "    def __init__(self, hidden_dim=128, num_labels=4):\n",
    "        super().__init__()\n",
    "        self.marbert = AutoModel.from_pretrained(\"UBC-NLP/MARBERT\")\n",
    "        embedding_dim = self.marbert.config.hidden_size  # 768\n",
    "\n",
    "        for param in self.marbert.parameters():\n",
    "            param.requires_grad = False  # freeze MARBERT\n",
    "\n",
    "        self.gru = nn.GRU(\n",
    "            input_size=embedding_dim,\n",
    "            hidden_size=hidden_dim,\n",
    "            bidirectional=True,\n",
    "            batch_first=True\n",
    "        )\n",
    "\n",
    "        self.dropout = nn.Dropout(0.3)\n",
    "        self.fc = nn.Linear(hidden_dim * 2, num_labels)\n",
    "\n",
    "    def forward(self, input_ids, attention_mask):\n",
    "        with torch.no_grad():\n",
    "            embeddings = self.marbert(input_ids=input_ids, attention_mask=attention_mask).last_hidden_state\n",
    "\n",
    "        rnn_out, _ = self.gru(embeddings)\n",
    "        pooled = torch.mean(rnn_out, dim=1)\n",
    "        logits = self.fc(self.dropout(pooled))\n",
    "        return logits\n",
    "\n",
    "\n"
   ]
  },
  {
   "cell_type": "code",
   "execution_count": 25,
   "id": "548665fe",
   "metadata": {},
   "outputs": [],
   "source": [
    "def train_model(model, train_loader, val_loader, optimizer, device, num_epochs=10):\n",
    "    model.to(device)\n",
    "    criterion = nn.BCEWithLogitsLoss()\n",
    "\n",
    "    for epoch in range(num_epochs):\n",
    "        model.train()\n",
    "        total_loss = 0\n",
    "        print(f\"\\n🔁 Epoch {epoch + 1}/{num_epochs}\")\n",
    "\n",
    "        for batch in tqdm(train_loader, desc=\"Training\"):\n",
    "            input_ids = batch['input_ids'].to(device)\n",
    "            attention_mask = batch['attention_mask'].to(device)\n",
    "            labels = batch['labels'].to(device)\n",
    "\n",
    "            logits = model(input_ids, attention_mask)\n",
    "            loss = criterion(logits, labels)\n",
    "\n",
    "            optimizer.zero_grad()\n",
    "            loss.backward()\n",
    "            optimizer.step()\n",
    "\n",
    "            total_loss += loss.item()\n",
    "\n",
    "        avg_train_loss = total_loss / len(train_loader)\n",
    "        print(f\"✅ Avg training loss: {avg_train_loss:.4f}\")\n",
    "\n",
    "        # --- Validation ---\n",
    "        model.eval()\n",
    "        val_loss = 0\n",
    "\n",
    "        with torch.no_grad():\n",
    "            for batch in tqdm(val_loader, desc=\"Validating\"):\n",
    "                input_ids = batch['input_ids'].to(device)\n",
    "                attention_mask = batch['attention_mask'].to(device)\n",
    "                labels = batch['labels'].to(device)\n",
    "\n",
    "                logits = model(input_ids, attention_mask)\n",
    "                loss = criterion(logits, labels)\n",
    "                val_loss += loss.item()\n",
    "\n",
    "        avg_val_loss = val_loss / len(val_loader)\n",
    "        print(f\"🔍 Avg validation loss: {avg_val_loss:.4f}\")\n"
   ]
  },
  {
   "cell_type": "code",
   "execution_count": 26,
   "id": "e775b781",
   "metadata": {},
   "outputs": [],
   "source": [
    "def save_model(model, path=\"bigru_fc_only.pt\"):\n",
    "    trainable_state_dict = {\n",
    "        k: v for k, v in model.state_dict().items()\n",
    "        if k.startswith(\"gru\") or k.startswith(\"fc\")\n",
    "    }\n",
    "    torch.save(trainable_state_dict, path)\n"
   ]
  },
  {
   "cell_type": "code",
   "execution_count": 27,
   "id": "43214198",
   "metadata": {},
   "outputs": [],
   "source": [
    "def load_model(path=\"bigru_fc_only.pt\", device=None):\n",
    "    model = BiGRUMultiLabelModel()\n",
    "    saved_state = torch.load(path, map_location=device or \"cpu\")\n",
    "\n",
    "    full_state = model.state_dict()\n",
    "    full_state.update(saved_state)\n",
    "    model.load_state_dict(full_state)\n",
    "\n",
    "    if device:\n",
    "        model.to(device)\n",
    "    model.eval()\n",
    "    return model"
   ]
  },
  {
   "cell_type": "code",
   "execution_count": 28,
   "id": "b6fb7b11",
   "metadata": {},
   "outputs": [
    {
     "name": "stdout",
     "output_type": "stream",
     "text": [
      "\n",
      "🔁 Epoch 1/5\n"
     ]
    },
    {
     "name": "stderr",
     "output_type": "stream",
     "text": [
      "Training: 100%|██████████| 118/118 [02:14<00:00,  1.14s/it]\n"
     ]
    },
    {
     "name": "stdout",
     "output_type": "stream",
     "text": [
      "✅ Avg training loss: 0.5663\n"
     ]
    },
    {
     "name": "stderr",
     "output_type": "stream",
     "text": [
      "Validating: 100%|██████████| 28/28 [00:26<00:00,  1.06it/s]\n"
     ]
    },
    {
     "name": "stdout",
     "output_type": "stream",
     "text": [
      "🔍 Avg validation loss: 0.4881\n",
      "\n",
      "🔁 Epoch 2/5\n"
     ]
    },
    {
     "name": "stderr",
     "output_type": "stream",
     "text": [
      "Training: 100%|██████████| 118/118 [02:14<00:00,  1.14s/it]\n"
     ]
    },
    {
     "name": "stdout",
     "output_type": "stream",
     "text": [
      "✅ Avg training loss: 0.4569\n"
     ]
    },
    {
     "name": "stderr",
     "output_type": "stream",
     "text": [
      "Validating: 100%|██████████| 28/28 [00:26<00:00,  1.07it/s]\n"
     ]
    },
    {
     "name": "stdout",
     "output_type": "stream",
     "text": [
      "🔍 Avg validation loss: 0.4394\n",
      "\n",
      "🔁 Epoch 3/5\n"
     ]
    },
    {
     "name": "stderr",
     "output_type": "stream",
     "text": [
      "Training: 100%|██████████| 118/118 [02:17<00:00,  1.16s/it]\n"
     ]
    },
    {
     "name": "stdout",
     "output_type": "stream",
     "text": [
      "✅ Avg training loss: 0.4175\n"
     ]
    },
    {
     "name": "stderr",
     "output_type": "stream",
     "text": [
      "Validating: 100%|██████████| 28/28 [00:26<00:00,  1.05it/s]\n"
     ]
    },
    {
     "name": "stdout",
     "output_type": "stream",
     "text": [
      "🔍 Avg validation loss: 0.4281\n",
      "\n",
      "🔁 Epoch 4/5\n"
     ]
    },
    {
     "name": "stderr",
     "output_type": "stream",
     "text": [
      "Training: 100%|██████████| 118/118 [02:18<00:00,  1.17s/it]\n"
     ]
    },
    {
     "name": "stdout",
     "output_type": "stream",
     "text": [
      "✅ Avg training loss: 0.3980\n"
     ]
    },
    {
     "name": "stderr",
     "output_type": "stream",
     "text": [
      "Validating: 100%|██████████| 28/28 [00:26<00:00,  1.04it/s]\n"
     ]
    },
    {
     "name": "stdout",
     "output_type": "stream",
     "text": [
      "🔍 Avg validation loss: 0.4276\n",
      "\n",
      "🔁 Epoch 5/5\n"
     ]
    },
    {
     "name": "stderr",
     "output_type": "stream",
     "text": [
      "Training: 100%|██████████| 118/118 [02:20<00:00,  1.19s/it]\n"
     ]
    },
    {
     "name": "stdout",
     "output_type": "stream",
     "text": [
      "✅ Avg training loss: 0.3863\n"
     ]
    },
    {
     "name": "stderr",
     "output_type": "stream",
     "text": [
      "Validating: 100%|██████████| 28/28 [00:27<00:00,  1.02it/s]"
     ]
    },
    {
     "name": "stdout",
     "output_type": "stream",
     "text": [
      "🔍 Avg validation loss: 0.4187\n"
     ]
    },
    {
     "name": "stderr",
     "output_type": "stream",
     "text": [
      "\n"
     ]
    }
   ],
   "source": [
    "device = torch.device(\"cuda\" if torch.cuda.is_available() else \"cpu\")\n",
    "model = BiGRUMultiLabelModel()\n",
    "optimizer = torch.optim.Adam(model.parameters(), lr=1e-3)\n",
    "\n",
    "# Train\n",
    "train_model(model, train_loader, val_loader, optimizer, device, num_epochs=5)"
   ]
  },
  {
   "cell_type": "code",
   "execution_count": 29,
   "id": "14d54731",
   "metadata": {},
   "outputs": [],
   "source": [
    "# Save only GRU/FC weights\n",
    "save_model(model, \"bigru_fc_only.pt\")\n"
   ]
  },
  {
   "cell_type": "markdown",
   "id": "ddfaf4e5",
   "metadata": {},
   "source": [
    "## Evaluation"
   ]
  },
  {
   "cell_type": "code",
   "execution_count": 30,
   "id": "2a9cf91f",
   "metadata": {},
   "outputs": [],
   "source": [
    "from sklearn.metrics import classification_report, f1_score, precision_score, recall_score\n",
    "import numpy as np\n",
    "import torch\n",
    "\n",
    "def evaluate_model(model, dataloader, threshold=0.5):\n",
    "    model.eval()\n",
    "    all_labels = []\n",
    "    all_preds = []\n",
    "\n",
    "    with torch.no_grad():\n",
    "        for batch in dataloader:\n",
    "            input_ids = batch['input_ids'].to(device)\n",
    "            attention_mask = batch['attention_mask'].to(device)\n",
    "            labels = batch['labels'].cpu().numpy()\n",
    "            logits = model(input_ids, attention_mask)\n",
    "            probs = torch.sigmoid(logits).cpu().numpy()\n",
    "            preds = (probs >= threshold).astype(int)\n",
    "\n",
    "            all_labels.append(labels)\n",
    "            all_preds.append(preds)\n",
    "\n",
    "    all_labels = np.vstack(all_labels)\n",
    "    all_preds = np.vstack(all_preds)\n",
    "\n",
    "    print(\"📊 Classification Report (per label):\")\n",
    "    print(classification_report(all_labels, all_preds, target_names=label_cols, zero_division=0))\n",
    "\n",
    "    print(\"🔍 Macro F1:\", f1_score(all_labels, all_preds, average='macro'))\n",
    "    print(\"🔍 Micro F1:\", f1_score(all_labels, all_preds, average='micro'))\n"
   ]
  },
  {
   "cell_type": "code",
   "execution_count": 31,
   "id": "2a76926d",
   "metadata": {},
   "outputs": [
    {
     "name": "stdout",
     "output_type": "stream",
     "text": [
      "📊 Classification Report (per label):\n",
      "                     precision    recall  f1-score   support\n",
      "\n",
      "         bug_report       0.82      0.79      0.80       245\n",
      "improvement_request       0.79      0.58      0.67       216\n",
      "             rating       0.93      0.82      0.87       395\n",
      "             others       0.67      0.57      0.62       154\n",
      "\n",
      "          micro avg       0.84      0.72      0.78      1010\n",
      "          macro avg       0.80      0.69      0.74      1010\n",
      "       weighted avg       0.83      0.72      0.77      1010\n",
      "        samples avg       0.87      0.79      0.80      1010\n",
      "\n",
      "🔍 Macro F1: 0.7408389562025618\n",
      "🔍 Micro F1: 0.7755968169761274\n"
     ]
    }
   ],
   "source": [
    "evaluate_model(model, test_loader)\n"
   ]
  },
  {
   "cell_type": "code",
   "execution_count": 32,
   "id": "625703ef",
   "metadata": {},
   "outputs": [],
   "source": [
    "from sklearn.metrics import multilabel_confusion_matrix, ConfusionMatrixDisplay\n",
    "import matplotlib.pyplot as plt\n",
    "import numpy as np\n",
    "import torch\n",
    "\n",
    "def plot_confusion_matrices(model, dataloader, threshold=0.5, label_names=None):\n",
    "    model.eval()\n",
    "    all_labels = []\n",
    "    all_preds = []\n",
    "\n",
    "    with torch.no_grad():\n",
    "        for batch in dataloader:\n",
    "            input_ids = batch[\"input_ids\"].to(device)\n",
    "            attention_mask = batch[\"attention_mask\"].to(device)\n",
    "            labels = batch[\"labels\"].cpu().numpy()\n",
    "            logits = model(input_ids, attention_mask)\n",
    "            probs = torch.sigmoid(logits).cpu().numpy()\n",
    "            preds = (probs >= threshold).astype(int)\n",
    "\n",
    "            all_labels.append(labels)\n",
    "            all_preds.append(preds)\n",
    "\n",
    "    y_true = np.vstack(all_labels)\n",
    "    y_pred = np.vstack(all_preds)\n",
    "\n",
    "    # Confusion matrices for each label\n",
    "    cm_per_label = multilabel_confusion_matrix(y_true, y_pred)\n",
    "\n",
    "    fig, axes = plt.subplots(1, len(label_names), figsize=(18, 4))\n",
    "    for i, (cm, label) in enumerate(zip(cm_per_label, label_names)):\n",
    "        ConfusionMatrixDisplay(cm, display_labels=[0, 1]).plot(ax=axes[i], values_format='d')\n",
    "        axes[i].set_title(label)\n",
    "\n",
    "    plt.tight_layout()\n",
    "    plt.show()\n"
   ]
  },
  {
   "cell_type": "code",
   "execution_count": 33,
   "id": "456f7ccf",
   "metadata": {},
   "outputs": [
    {
     "data": {
      "image/png": "[encoded data removed]",
      "text/plain": [
       "<Figure size 1800x400 with 8 Axes>"
      ]
     },
     "metadata": {},
     "output_type": "display_data"
    }
   ],
   "source": [
    "label_cols = ['bug_report', 'improvement_request', 'rating', 'others']\n",
    "plot_confusion_matrices(model, test_loader, threshold=0.5, label_names=label_cols)\n"
   ]
  },
  {
   "cell_type": "markdown",
   "id": "55605ddd",
   "metadata": {},
   "source": []
  }
 ],
 "metadata": {
  "kernelspec": {
   "display_name": "Python 3",
   "language": "python",
   "name": "python3"
  },
  "language_info": {
   "codemirror_mode": {
    "name": "ipython",
    "version": 3
   },
   "file_extension": ".py",
   "mimetype": "text/x-python",
   "name": "python",
   "nbconvert_exporter": "python",
   "pygments_lexer": "ipython3",
   "version": "3.12.2"
  }
 },
 "nbformat": 4,
 "nbformat_minor": 5
}
