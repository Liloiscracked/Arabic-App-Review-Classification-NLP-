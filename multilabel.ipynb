{
 "cells": [
  {
   "cell_type": "markdown",
   "id": "296578c7",
   "metadata": {},
   "source": [
    "## Using Marbert Embeddings"
   ]
  },
  {
   "cell_type": "code",
   "execution_count": 1,
   "id": "379b21bf",
   "metadata": {},
   "outputs": [
    {
     "data": {
      "application/vnd.jupyter.widget-view+json": {
       "model_id": "98633a29d373440aac28b03547e8afd8",
       "version_major": 2,
       "version_minor": 0
      },
      "text/plain": [
       "pytorch_model.bin:  46%|####6     | 304M/654M [00:00<?, ?B/s]"
      ]
     },
     "metadata": {},
     "output_type": "display_data"
    },
    {
     "name": "stderr",
     "output_type": "stream",
     "text": [
      "BertForMaskedLM has generative capabilities, as `prepare_inputs_for_generation` is explicitly overwritten. However, it doesn't directly inherit from `GenerationMixin`. From 👉v4.50👈 onwards, `PreTrainedModel` will NOT inherit from `GenerationMixin`, and this model will lose the ability to call `generate` and other related functions.\n",
      "  - If you're using `trust_remote_code=True`, you can get rid of this warning by loading the model with an auto class. See https://huggingface.co/docs/transformers/en/model_doc/auto#auto-classes\n",
      "  - If you are the owner of the model architecture code, please modify your model class such that it inherits from `GenerationMixin` (after `PreTrainedModel`, otherwise you'll get an exception).\n",
      "  - If you are not the owner of the model architecture class, please contact the model code owner to update it.\n",
      "Some weights of the model checkpoint at UBC-NLP/MARBERT were not used when initializing BertForMaskedLM: ['bert.pooler.dense.bias', 'bert.pooler.dense.weight', 'cls.seq_relationship.bias', 'cls.seq_relationship.weight']\n",
      "- This IS expected if you are initializing BertForMaskedLM from the checkpoint of a model trained on another task or with another architecture (e.g. initializing a BertForSequenceClassification model from a BertForPreTraining model).\n",
      "- This IS NOT expected if you are initializing BertForMaskedLM from the checkpoint of a model that you expect to be exactly identical (initializing a BertForSequenceClassification model from a BertForSequenceClassification model).\n"
     ]
    }
   ],
   "source": [
    "from transformers import AutoTokenizer, AutoModelForMaskedLM\n",
    "\n",
    "tokenizer = AutoTokenizer.from_pretrained(\"UBC-NLP/MARBERT\")\n",
    "model = AutoModelForMaskedLM.from_pretrained(\"UBC-NLP/MARBERT\")\n"
   ]
  },
  {
   "cell_type": "markdown",
   "id": "5c6d0472",
   "metadata": {},
   "source": [
    "## Imports"
   ]
  },
  {
   "cell_type": "code",
   "execution_count": 5,
   "id": "e545eccd",
   "metadata": {},
   "outputs": [],
   "source": [
    "import pandas as pd\n",
    "import numpy as np\n",
    "import matplotlib.pyplot as plt\n",
    "import seaborn as sns\n",
    "from sklearn.model_selection import train_test_split\n",
    "from sklearn.metrics import classification_report, confusion_matrix, accuracy_score\n",
    "from collections import Counter\n",
    "import re\n",
    "import tensorflow as tf\n",
    "from tensorflow.keras.preprocessing.text import Tokenizer\n",
    "from tensorflow.keras.preprocessing.sequence import pad_sequences\n",
    "from tensorflow.keras.models import Sequential\n",
    "from tensorflow.keras.layers import Embedding, LSTM, GRU, Bidirectional, Dense, Dropout\n",
    "import random\n",
    "\n",
    "np.random.seed(777)\n",
    "tf.random.set_seed(777)\n",
    "random.seed(777)"
   ]
  },
  {
   "cell_type": "markdown",
   "id": "0b19dd67",
   "metadata": {},
   "source": []
  },
  {
   "cell_type": "code",
   "execution_count": 6,
   "id": "05070ce2",
   "metadata": {},
   "outputs": [
    {
     "name": "stdout",
     "output_type": "stream",
     "text": [
      "Dataset shape: (2900, 2)\n",
      "\n",
      "Sample data:\n",
      "                                              review                Label\n",
      "0                                 يبيله تصليحات كثير           bug_report\n",
      "1                  ماتحملت ابدددددا ونا دفعت فلوس 🤔😕               rating\n",
      "2  اتمنى منكم عمل خيار لتفضيل المسلسل بالكامل عوض...  improvement_request\n",
      "3      ممتاز وبسيط وتشغيله لا يؤثر على سرعة الانترنت               rating\n",
      "4                                تبين م لي ي تم ل يب               others\n",
      "\n",
      "Missing values:\n",
      "review    0\n",
      "Label     0\n",
      "dtype: int64\n",
      "\n",
      "Basic statistics:\n",
      "                 review   Label\n",
      "count              2900    2900\n",
      "unique             2892       4\n",
      "top     التطبيق لا يعمل  rating\n",
      "freq                  3    1298\n"
     ]
    }
   ],
   "source": [
    "df = pd.read_csv('Data/App Reviews-SingleLabel-Multiclass.csv')\n",
    "\n",
    "print(f\"Dataset shape: {df.shape}\")\n",
    "print(\"\\nSample data:\")\n",
    "print(df.head())\n",
    "\n",
    "print(\"\\nMissing values:\")\n",
    "print(df.isnull().sum())\n",
    "\n",
    "print(\"\\nBasic statistics:\")\n",
    "print(df.describe(include='all'))"
   ]
  },
  {
   "cell_type": "markdown",
   "id": "b72ff1c7",
   "metadata": {},
   "source": [
    "## Analysis"
   ]
  },
  {
   "cell_type": "code",
   "execution_count": 7,
   "id": "7383255a",
   "metadata": {},
   "outputs": [
    {
     "name": "stdout",
     "output_type": "stream",
     "text": [
      "Label distribution:\n",
      "Label\n",
      "rating                 1298\n",
      "bug_report              756\n",
      "improvement_request     442\n",
      "others                  404\n",
      "Name: count, dtype: int64\n",
      "\n",
      "Label percentages:\n",
      "Label\n",
      "rating                 44.76\n",
      "bug_report             26.07\n",
      "improvement_request    15.24\n",
      "others                 13.93\n",
      "Name: count, dtype: float64\n"
     ]
    },
    {
     "data": {
      "image/png": "[encoded data removed]",
      "text/plain": [
       "<Figure size 1000x600 with 1 Axes>"
      ]
     },
     "metadata": {},
     "output_type": "display_data"
    },
    {
     "data": {
      "image/png": "[encoded data removed]",
      "text/plain": [
       "<Figure size 1200x500 with 2 Axes>"
      ]
     },
     "metadata": {},
     "output_type": "display_data"
    },
    {
     "name": "stdout",
     "output_type": "stream",
     "text": [
      "\n",
      "Text length statistics by label:\n",
      "                      count       mean         std   min   25%   50%     75%  \\\n",
      "Label                                                                          \n",
      "bug_report            756.0  81.029101   58.989946  13.0  41.0  65.0  102.00   \n",
      "improvement_request   442.0  86.907240   81.802278  15.0  38.0  59.5  103.00   \n",
      "others                404.0  86.940594  179.752632  11.0  29.0  44.0   82.25   \n",
      "rating               1298.0  62.698767   55.206818  10.0  31.0  46.5   75.00   \n",
      "\n",
      "                        max  \n",
      "Label                        \n",
      "bug_report            500.0  \n",
      "improvement_request   498.0  \n",
      "others               3166.0  \n",
      "rating                499.0  \n",
      "\n",
      "Word count statistics by label:\n",
      "                      count       mean        std  min  25%   50%    75%  \\\n",
      "Label                                                                      \n",
      "bug_report            756.0  15.055556  10.854466  3.0  8.0  12.0  19.00   \n",
      "improvement_request   442.0  15.685520  14.919990  3.0  7.0  11.0  18.75   \n",
      "others                404.0  15.455446  32.085965  3.0  6.0   8.0  14.00   \n",
      "rating               1298.0  11.356703   9.486177  3.0  6.0   8.0  14.00   \n",
      "\n",
      "                       max  \n",
      "Label                       \n",
      "bug_report            92.0  \n",
      "improvement_request   99.0  \n",
      "others               576.0  \n",
      "rating                93.0  \n"
     ]
    }
   ],
   "source": [
    "label_counts = df['Label'].value_counts()\n",
    "print(\"Label distribution:\")\n",
    "print(label_counts)\n",
    "print(\"\\nLabel percentages:\")\n",
    "print(round(label_counts / len(df) * 100, 2))\n",
    "\n",
    "plt.figure(figsize=(10, 6))\n",
    "sns.countplot(y='Label', data=df)\n",
    "plt.title('Distribution of Labels in the Dataset')\n",
    "plt.tight_layout()\n",
    "plt.show()\n",
    "\n",
    "df['text_length'] = df['review'].apply(len)\n",
    "df['word_count'] = df['review'].apply(lambda x: len(str(x).split()))\n",
    "\n",
    "plt.figure(figsize=(12, 5))\n",
    "plt.subplot(1, 2, 1)\n",
    "sns.histplot(df['text_length'], bins=50)\n",
    "plt.title('Distribution of Text Length (Characters)')\n",
    "plt.xlabel('Number of Characters')\n",
    "\n",
    "plt.subplot(1, 2, 2)\n",
    "sns.histplot(df['word_count'], bins=50)\n",
    "plt.title('Distribution of Word Count')\n",
    "plt.xlabel('Number of Words')\n",
    "plt.tight_layout()\n",
    "plt.show()\n",
    "\n",
    "print(\"\\nText length statistics by label:\")\n",
    "print(df.groupby('Label')['text_length'].describe())\n",
    "\n",
    "print(\"\\nWord count statistics by label:\")\n",
    "print(df.groupby('Label')['word_count'].describe())"
   ]
  },
  {
   "cell_type": "markdown",
   "id": "de7555f3",
   "metadata": {},
   "source": [
    "## Preprocessing\n"
   ]
  },
  {
   "cell_type": "code",
   "execution_count": 9,
   "id": "15ef2d1c",
   "metadata": {},
   "outputs": [
    {
     "name": "stdout",
     "output_type": "stream",
     "text": [
      "Original vs Processed Text Examples:\n",
      "Original: يبيله تصليحات كثير\n",
      "Processed: يبيله تصليحات كثير\n",
      "\n",
      "Original: ماتحملت ابدددددا ونا دفعت فلوس 🤔😕\n",
      "Processed: ماتحملت ابدددددا ونا دفعت فلوس\n",
      "\n",
      "Original: اتمنى منكم عمل خيار لتفضيل المسلسل بالكامل عوضاً عن تفضيل الحلقات فقط\n",
      "وشكراً\n",
      "Processed: اتمنى منكم عمل خيار لتفضيل المسلسل بالكامل عوضا عن تفضيل الحلقات فقط وشكرا\n",
      "\n"
     ]
    }
   ],
   "source": [
    "def preprocess_text(text):\n",
    "    text = text.lower()\n",
    "    \n",
    "    text = re.sub(r'[^\\w\\s]', '', text)\n",
    "    \n",
    "    text = re.sub(r'\\s+', ' ', text).strip()\n",
    "    \n",
    "    return text\n",
    "\n",
    "df['processed_text'] = df['review'].apply(preprocess_text)\n",
    "\n",
    "print(\"Original vs Processed Text Examples:\")\n",
    "for i in range(3):\n",
    "    print(f\"Original: {df['review'].iloc[i]}\")\n",
    "    print(f\"Processed: {df['processed_text'].iloc[i]}\")\n",
    "    print()"
   ]
  },
  {
   "cell_type": "markdown",
   "id": "bf490952",
   "metadata": {},
   "source": [
    "# Data split"
   ]
  },
  {
   "cell_type": "code",
   "execution_count": 10,
   "id": "449b184a",
   "metadata": {},
   "outputs": [
    {
     "name": "stdout",
     "output_type": "stream",
     "text": [
      "Train set size: 1885\n",
      "Validation set size: 435\n",
      "Test set size: 580\n",
      "\n",
      "Label distribution in train set:\n",
      "0    492\n",
      "1    288\n",
      "2    843\n",
      "3    262\n",
      "Name: count, dtype: int64\n",
      "\n",
      "Label distribution in validation set:\n",
      "0    113\n",
      "1     66\n",
      "2    195\n",
      "3     61\n",
      "Name: count, dtype: int64\n",
      "\n",
      "Label distribution in test set:\n",
      "0    151\n",
      "1     88\n",
      "2    260\n",
      "3     81\n",
      "Name: count, dtype: int64\n"
     ]
    }
   ],
   "source": [
    "\n",
    "label_mapping = {'bug_report': 0, 'improvement_request': 1, 'rating': 2, 'others': 3}\n",
    "df['label_encoded'] = df['Label'].map(label_mapping)\n",
    "\n",
    "X = df['processed_text'].values\n",
    "y = df['label_encoded'].values\n",
    "\n",
    "X_train_val, X_test, y_train_val, y_test = train_test_split(\n",
    "    X, y, test_size=0.2, random_state=777, stratify=y\n",
    ")\n",
    "\n",
    "X_train, X_val, y_train, y_val = train_test_split(\n",
    "    X_train_val, y_train_val, test_size=0.15/0.8, random_state=777, stratify=y_train_val\n",
    ")\n",
    "\n",
    "print(f\"Train set size: {len(X_train)}\")\n",
    "print(f\"Validation set size: {len(X_val)}\")\n",
    "print(f\"Test set size: {len(X_test)}\")\n",
    "\n",
    "print(\"\\nLabel distribution in train set:\")\n",
    "print(pd.Series(y_train).value_counts().sort_index())\n",
    "\n",
    "print(\"\\nLabel distribution in validation set:\")\n",
    "print(pd.Series(y_val).value_counts().sort_index())\n",
    "\n",
    "print(\"\\nLabel distribution in test set:\")\n",
    "print(pd.Series(y_test).value_counts().sort_index())"
   ]
  },
  {
   "cell_type": "code",
   "execution_count": null,
   "id": "3662ed4d",
   "metadata": {},
   "outputs": [],
   "source": []
  }
 ],
 "metadata": {
  "kernelspec": {
   "display_name": "Python 3",
   "language": "python",
   "name": "python3"
  },
  "language_info": {
   "codemirror_mode": {
    "name": "ipython",
    "version": 3
   },
   "file_extension": ".py",
   "mimetype": "text/x-python",
   "name": "python",
   "nbconvert_exporter": "python",
   "pygments_lexer": "ipython3",
   "version": "3.12.2"
  }
 },
 "nbformat": 4,
 "nbformat_minor": 5
}
