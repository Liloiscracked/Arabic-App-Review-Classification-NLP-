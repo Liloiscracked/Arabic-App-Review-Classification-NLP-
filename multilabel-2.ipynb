{
  "cells": [
    {
      "cell_type": "markdown",
      "id": "9c7f6cf6",
      "metadata": {
        "id": "9c7f6cf6"
      },
      "source": [
        "# Part C"
      ]
    },
    {
      "cell_type": "markdown",
      "id": "296578c7",
      "metadata": {
        "id": "296578c7"
      },
      "source": [
        "## Using Marbert Embeddings"
      ]
    },
    {
      "cell_type": "code",
      "execution_count": 2,
      "id": "379b21bf",
      "metadata": {
        "id": "379b21bf",
        "outputId": "5a827581-3f83-4c08-8d9b-33c8ebe81d5f"
      },
      "outputs": [],
      "source": [
        "from transformers import AutoTokenizer, AutoModelForMaskedLM\n",
        "\n",
        "tokenizer = AutoTokenizer.from_pretrained(\"UBC-NLP/MARBERT\")\n",
        "\n"
      ]
    },
    {
      "cell_type": "markdown",
      "id": "5c6d0472",
      "metadata": {
        "id": "5c6d0472"
      },
      "source": [
        "## Imports"
      ]
    },
    {
      "cell_type": "code",
      "execution_count": 3,
      "id": "e545eccd",
      "metadata": {
        "id": "e545eccd"
      },
      "outputs": [],
      "source": [
        "import pandas as pd\n",
        "import numpy as np\n",
        "import matplotlib.pyplot as plt\n",
        "import seaborn as sns\n",
        "from sklearn.model_selection import train_test_split\n",
        "from sklearn.metrics import classification_report, confusion_matrix, accuracy_score\n",
        "from collections import Counter\n",
        "import re\n",
        "import tensorflow as tf\n",
        "from tensorflow.keras.preprocessing.text import Tokenizer\n",
        "from tensorflow.keras.preprocessing.sequence import pad_sequences\n",
        "from tensorflow.keras.models import Sequential\n",
        "from tensorflow.keras.layers import Embedding, LSTM, GRU, Bidirectional, Dense, Dropout\n",
        "import random\n",
        "\n",
        "np.random.seed(777)\n",
        "tf.random.set_seed(777)\n",
        "random.seed(777)"
      ]
    },
    {
      "cell_type": "markdown",
      "id": "0b19dd67",
      "metadata": {
        "id": "0b19dd67"
      },
      "source": []
    },
    {
      "cell_type": "code",
      "execution_count": 10,
      "id": "05070ce2",
      "metadata": {
        "id": "05070ce2",
        "outputId": "6d33ce14-eb21-4fda-b9e2-0d29126b71ca"
      },
      "outputs": [
        {
          "name": "stdout",
          "output_type": "stream",
          "text": [
            "Dataset shape: (2900, 5)\n",
            "\n",
            "Sample data:\n",
            "                                              review  bug_report  \\\n",
            "0                                 يبيله تصليحات كثير           1   \n",
            "1                  ماتحملت ابدددددا ونا دفعت فلوس 🤔😕           0   \n",
            "2  اتمنى منكم عمل خيار لتفضيل المسلسل بالكامل عوض...           0   \n",
            "3      ممتاز وبسيط وتشغيله لا يؤثر على سرعة الانترنت           0   \n",
            "4                                تبين م لي ي تم ل يب           0   \n",
            "\n",
            "   improvement_request  rating  others  \n",
            "0                    1       1       0  \n",
            "1                    1       1       1  \n",
            "2                    1       1       0  \n",
            "3                    0       1       0  \n",
            "4                    0       1       1  \n",
            "\n",
            "Missing values:\n",
            "review                 0\n",
            "bug_report             0\n",
            "improvement_request    0\n",
            "rating                 0\n",
            "others                 0\n",
            "dtype: int64\n",
            "\n",
            "Basic statistics:\n",
            "                 review   bug_report  improvement_request       rating  \\\n",
            "count              2900  2900.000000          2900.000000  2900.000000   \n",
            "unique             2892          NaN                  NaN          NaN   \n",
            "top     التطبيق لا يعمل          NaN                  NaN          NaN   \n",
            "freq                  3          NaN                  NaN          NaN   \n",
            "mean                NaN     0.401379             0.380345     0.679655   \n",
            "std                 NaN     0.490262             0.485555     0.466690   \n",
            "min                 NaN     0.000000             0.000000     0.000000   \n",
            "25%                 NaN     0.000000             0.000000     0.000000   \n",
            "50%                 NaN     0.000000             0.000000     1.000000   \n",
            "75%                 NaN     1.000000             1.000000     1.000000   \n",
            "max                 NaN     1.000000             1.000000     1.000000   \n",
            "\n",
            "             others  \n",
            "count   2900.000000  \n",
            "unique          NaN  \n",
            "top             NaN  \n",
            "freq            NaN  \n",
            "mean       0.282759  \n",
            "std        0.450418  \n",
            "min        0.000000  \n",
            "25%        0.000000  \n",
            "50%        0.000000  \n",
            "75%        1.000000  \n",
            "max        1.000000  \n"
          ]
        }
      ],
      "source": [
        "df = pd.read_csv('Data/App Reviews-Multilabel.csv')\n",
        "\n",
        "\n",
        "print(f\"Dataset shape: {df.shape}\")\n",
        "print(\"\\nSample data:\")\n",
        "print(df.head())\n",
        "\n",
        "print(\"\\nMissing values:\")\n",
        "print(df.isnull().sum())\n",
        "\n",
        "print(\"\\nBasic statistics:\")\n",
        "print(df.describe(include='all'))"
      ]
    },
    {
      "cell_type": "markdown",
      "id": "b72ff1c7",
      "metadata": {
        "id": "b72ff1c7"
      },
      "source": [
        "## Analysis"
      ]
    },
    {
      "cell_type": "code",
      "execution_count": 11,
      "id": "7383255a",
      "metadata": {
        "id": "7383255a",
        "outputId": "d3fbb08a-473d-4d57-d455-f8bf773bac1e"
      },
      "outputs": [
        {
          "name": "stdout",
          "output_type": "stream",
          "text": [
            "Label distribution (number of samples where label = 1):\n",
            "rating                 1971\n",
            "bug_report             1164\n",
            "improvement_request    1103\n",
            "others                  820\n",
            "dtype: int64\n",
            "\n",
            "Label percentages:\n",
            "rating                 67.97\n",
            "bug_report             40.14\n",
            "improvement_request    38.03\n",
            "others                 28.28\n",
            "dtype: float64\n"
          ]
        },
        {
          "data": {
            "image/png": "[encoded data removed]",
            "text/plain": [
              "<Figure size 800x600 with 1 Axes>"
            ]
          },
          "metadata": {},
          "output_type": "display_data"
        },
        {
          "data": {
            "image/png": "[encoded data removed]",
            "text/plain": [
              "<Figure size 1200x500 with 2 Axes>"
            ]
          },
          "metadata": {},
          "output_type": "display_data"
        },
        {
          "name": "stdout",
          "output_type": "stream",
          "text": [
            "\n",
            "📊 Text length stats for label: 'bug_report'\n",
            "             count       mean         std   min   25%   50%    75%     max\n",
            "bug_report                                                                \n",
            "0           1736.0  68.113479  100.145418  10.0  30.0  45.0   75.0  3166.0\n",
            "1           1164.0  84.134880   67.613742  13.0  41.0  64.5  103.0   500.0\n",
            "\n",
            "📊 Word count stats for label: 'bug_report'\n",
            "             count       mean        std  min  25%   50%   75%    max\n",
            "bug_report                                                           \n",
            "0           1736.0  12.178571  17.693266  3.0  6.0   8.0  13.0  576.0\n",
            "1           1164.0  15.599656  12.401614  3.0  8.0  12.0  19.0   99.0\n",
            "\n",
            "📊 Text length stats for label: 'improvement_request'\n",
            "                      count       mean        std   min   25%   50%    75%  \\\n",
            "improvement_request                                                          \n",
            "0                    1797.0  66.489149  94.841449  10.0  30.0  46.0   75.0   \n",
            "1                    1103.0  87.667271  76.414400  11.0  40.0  63.0  106.0   \n",
            "\n",
            "                        max  \n",
            "improvement_request          \n",
            "0                    3166.0  \n",
            "1                     500.0  \n",
            "\n",
            "📊 Word count stats for label: 'improvement_request'\n",
            "                      count       mean        std  min  25%   50%   75%    max\n",
            "improvement_request                                                           \n",
            "0                    1797.0  12.055648  16.793758  3.0  6.0   9.0  14.0  576.0\n",
            "1                    1103.0  15.989121  13.904910  3.0  7.0  12.0  19.0   99.0\n",
            "\n",
            "📊 Text length stats for label: 'rating'\n",
            "         count       mean         std   min   25%   50%   75%     max\n",
            "rating                                                               \n",
            "0        929.0  77.150700  122.598381  11.0  34.0  52.0  85.0  3166.0\n",
            "1       1971.0  73.315576   67.360240  10.0  33.5  52.0  85.0   500.0\n",
            "\n",
            "📊 Word count stats for label: 'rating'\n",
            "         count       mean        std  min  25%   50%   75%    max\n",
            "rating                                                           \n",
            "0        929.0  13.933262  21.868678  3.0  6.0  10.0  16.0  576.0\n",
            "1       1971.0  13.371892  12.052432  3.0  6.0   9.0  16.0  100.0\n",
            "\n",
            "📊 Text length stats for label: 'others'\n",
            "         count       mean         std   min   25%   50%    75%     max\n",
            "others                                                                \n",
            "0       2080.0  70.562019   58.466864  10.0  35.0  54.0  85.00   500.0\n",
            "1        820.0  84.645122  138.334316  11.0  32.0  50.0  88.25  3166.0\n",
            "\n",
            "📊 Word count stats for label: 'others'\n",
            "         count       mean        std  min  25%   50%    75%    max\n",
            "others                                                            \n",
            "0       2080.0  12.963462  10.613441  3.0  6.0  10.0  16.00   94.0\n",
            "1        820.0  15.043902  24.545550  3.0  6.0   9.0  15.25  576.0\n"
          ]
        }
      ],
      "source": [
        "import pandas as pd\n",
        "import seaborn as sns\n",
        "import matplotlib.pyplot as plt\n",
        "\n",
        "label_cols = ['bug_report', 'improvement_request', 'rating', 'others']\n",
        "\n",
        "# ✅ Count of label presence per column\n",
        "label_counts = df[label_cols].sum().sort_values(ascending=False)\n",
        "\n",
        "print(\"Label distribution (number of samples where label = 1):\")\n",
        "print(label_counts)\n",
        "\n",
        "print(\"\\nLabel percentages:\")\n",
        "print(round((label_counts / len(df)) * 100, 2))\n",
        "\n",
        "# ✅ Plot label distribution\n",
        "plt.figure(figsize=(8, 6))\n",
        "sns.barplot(x=label_counts.values, y=label_counts.index)\n",
        "plt.title('Label Occurrence in Dataset')\n",
        "plt.xlabel('Count')\n",
        "plt.ylabel('Label')\n",
        "plt.tight_layout()\n",
        "plt.show()\n",
        "\n",
        "# ✅ Text statistics\n",
        "df['text_length'] = df['review'].astype(str).apply(len)\n",
        "df['word_count'] = df['review'].astype(str).apply(lambda x: len(x.split()))\n",
        "\n",
        "# ✅ Plot text length and word count distributions\n",
        "plt.figure(figsize=(12, 5))\n",
        "\n",
        "plt.subplot(1, 2, 1)\n",
        "sns.histplot(df['text_length'], bins=50)\n",
        "plt.title('Distribution of Text Length (Characters)')\n",
        "plt.xlabel('Number of Characters')\n",
        "\n",
        "plt.subplot(1, 2, 2)\n",
        "sns.histplot(df['word_count'], bins=50)\n",
        "plt.title('Distribution of Word Count')\n",
        "plt.xlabel('Number of Words')\n",
        "\n",
        "plt.tight_layout()\n",
        "plt.show()\n",
        "\n",
        "# ✅ Length statistics per label presence\n",
        "for col in label_cols:\n",
        "    print(f\"\\n📊 Text length stats for label: '{col}'\")\n",
        "    print(df.groupby(col)['text_length'].describe())\n",
        "\n",
        "    print(f\"\\n📊 Word count stats for label: '{col}'\")\n",
        "    print(df.groupby(col)['word_count'].describe())\n"
      ]
    },
    {
      "cell_type": "markdown",
      "id": "de7555f3",
      "metadata": {
        "id": "de7555f3"
      },
      "source": [
        "## Preprocessing\n"
      ]
    },
    {
      "cell_type": "code",
      "execution_count": 12,
      "id": "15ef2d1c",
      "metadata": {
        "id": "15ef2d1c",
        "outputId": "ba86cde9-df7a-4842-e0ac-5f1457c1a079"
      },
      "outputs": [
        {
          "name": "stdout",
          "output_type": "stream",
          "text": [
            "Original vs Processed Text Examples:\n",
            "Original: يبيله تصليحات كثير\n",
            "Processed: يبيله تصليحات كثير\n",
            "\n",
            "Original: ماتحملت ابدددددا ونا دفعت فلوس 🤔😕\n",
            "Processed: ماتحملت ابدددددا ونا دفعت فلوس\n",
            "\n",
            "Original: اتمنى منكم عمل خيار لتفضيل المسلسل بالكامل عوضاً عن تفضيل الحلقات فقط\n",
            "وشكراً\n",
            "Processed: اتمنى منكم عمل خيار لتفضيل المسلسل بالكامل عوضا عن تفضيل الحلقات فقط وشكرا\n",
            "\n"
          ]
        }
      ],
      "source": [
        "def preprocess_text(text):\n",
        "    text = text.lower()\n",
        "\n",
        "    text = re.sub(r'[^\\w\\s]', '', text)\n",
        "\n",
        "    text = re.sub(r'\\s+', ' ', text).strip()\n",
        "\n",
        "    return text\n",
        "\n",
        "df['processed_text'] = df['review'].apply(preprocess_text)\n",
        "\n",
        "print(\"Original vs Processed Text Examples:\")\n",
        "for i in range(3):\n",
        "    print(f\"Original: {df['review'].iloc[i]}\")\n",
        "    print(f\"Processed: {df['processed_text'].iloc[i]}\")\n",
        "    print()"
      ]
    },
    {
      "cell_type": "markdown",
      "id": "bf490952",
      "metadata": {
        "id": "bf490952"
      },
      "source": [
        "# Data split"
      ]
    },
    {
      "cell_type": "code",
      "execution_count": 13,
      "id": "449b184a",
      "metadata": {
        "id": "449b184a",
        "outputId": "631770a4-14d2-4aa6-eca2-b761e90be2a6"
      },
      "outputs": [
        {
          "name": "stdout",
          "output_type": "stream",
          "text": [
            "Train set size: 1885\n",
            "Validation set size: 435\n",
            "Test set size: 580\n",
            "\n",
            "Train set label distribution (count of 1s):\n",
            "bug_report              757\n",
            "improvement_request     740\n",
            "rating                 1273\n",
            "others                  520\n",
            "dtype: int64\n",
            "\n",
            "Validation set label distribution (count of 1s):\n",
            "bug_report             162\n",
            "improvement_request    147\n",
            "rating                 303\n",
            "others                 146\n",
            "dtype: int64\n",
            "\n",
            "Test set label distribution (count of 1s):\n",
            "bug_report             245\n",
            "improvement_request    216\n",
            "rating                 395\n",
            "others                 154\n",
            "dtype: int64\n"
          ]
        }
      ],
      "source": [
        "from sklearn.model_selection import train_test_split\n",
        "import numpy as np\n",
        "\n",
        "# Inputs and labels\n",
        "X = df['processed_text'].values\n",
        "y = df[['bug_report', 'improvement_request', 'rating', 'others']].values  # shape: [n_samples, 4]\n",
        "\n",
        "# Manual shuffle\n",
        "np.random.seed(777)\n",
        "indices = np.arange(len(X))\n",
        "np.random.shuffle(indices)\n",
        "\n",
        "X = X[indices]\n",
        "y = y[indices]\n",
        "\n",
        "# Split proportions\n",
        "n_total = len(X)\n",
        "n_test = int(0.2 * n_total)\n",
        "n_val = int(0.15 * n_total)\n",
        "\n",
        "X_train_val, X_test = X[:n_total - n_test], X[n_total - n_test:]\n",
        "y_train_val, y_test = y[:n_total - n_test], y[n_total - n_test:]\n",
        "\n",
        "X_train, X_val = X_train_val[:-n_val], X_train_val[-n_val:]\n",
        "y_train, y_val = y_train_val[:-n_val], y_train_val[-n_val:]\n",
        "\n",
        "# Print sizes\n",
        "print(f\"Train set size: {len(X_train)}\")\n",
        "print(f\"Validation set size: {len(X_val)}\")\n",
        "print(f\"Test set size: {len(X_test)}\")\n",
        "\n",
        "# Print label distribution\n",
        "def print_label_distribution(name, y_subset):\n",
        "    print(f\"\\n{name} set label distribution (count of 1s):\")\n",
        "    label_cols = ['bug_report', 'improvement_request', 'rating', 'others']\n",
        "    df_subset = pd.DataFrame(y_subset, columns=label_cols)\n",
        "    print(df_subset.sum())\n",
        "\n",
        "print_label_distribution(\"Train\", y_train)\n",
        "print_label_distribution(\"Validation\", y_val)\n",
        "print_label_distribution(\"Test\", y_test)\n"
      ]
    },
    {
      "cell_type": "markdown",
      "id": "261f00ec",
      "metadata": {
        "id": "261f00ec"
      },
      "source": [
        "## Tokenizer"
      ]
    },
    {
      "cell_type": "code",
      "execution_count": null,
      "id": "3662ed4d",
      "metadata": {
        "id": "3662ed4d"
      },
      "outputs": [],
      "source": [
        "from transformers import AutoTokenizer\n",
        "\n",
        "tokenizer = AutoTokenizer.from_pretrained(\"UBC-NLP/MARBERT\")\n",
        "\n",
        "def tokenize_texts(texts, max_length=128):\n",
        "    return tokenizer(\n",
        "        list(texts),\n",
        "        padding=\"max_length\",\n",
        "        truncation=True,\n",
        "        max_length=max_length,\n",
        "        return_tensors=\"pt\"\n",
        "    )\n",
        "\n",
        "# Tokenize each split\n",
        "tokenized_train = tokenize_texts(X_train)\n",
        "tokenized_val = tokenize_texts(X_val)\n",
        "tokenized_test = tokenize_texts(X_test)\n"
      ]
    },
    {
      "cell_type": "markdown",
      "id": "9bd05bd4",
      "metadata": {
        "id": "9bd05bd4"
      },
      "source": [
        "## Dataset Class"
      ]
    },
    {
      "cell_type": "code",
      "execution_count": null,
      "id": "7b194a29",
      "metadata": {
        "id": "7b194a29"
      },
      "outputs": [],
      "source": [
        "from torch.utils.data import Dataset\n",
        "import torch\n",
        "\n",
        "class ArabicMultiLabelDataset(Dataset):\n",
        "    def __init__(self, tokenized_data, labels):\n",
        "        self.input_ids = tokenized_data[\"input_ids\"]\n",
        "        self.attention_mask = tokenized_data[\"attention_mask\"]\n",
        "        self.labels = torch.tensor(labels, dtype=torch.float32)  # shape: [N, 4]\n",
        "\n",
        "    def __len__(self):\n",
        "        return self.labels.shape[0]\n",
        "\n",
        "    def __getitem__(self, idx):\n",
        "        return {\n",
        "            \"input_ids\": self.input_ids[idx],\n",
        "            \"attention_mask\": self.attention_mask[idx],\n",
        "            \"labels\": self.labels[idx]\n",
        "        }\n"
      ]
    },
    {
      "cell_type": "markdown",
      "id": "903bee30",
      "metadata": {
        "id": "903bee30"
      },
      "source": [
        "## Dataloader"
      ]
    },
    {
      "cell_type": "code",
      "execution_count": null,
      "id": "de05382d",
      "metadata": {
        "id": "de05382d"
      },
      "outputs": [],
      "source": [
        "from torch.utils.data import DataLoader\n",
        "\n",
        "batch_size = 16\n",
        "\n",
        "train_dataset = ArabicMultiLabelDataset(tokenized_train, y_train)\n",
        "val_dataset = ArabicMultiLabelDataset(tokenized_val, y_val)\n",
        "test_dataset = ArabicMultiLabelDataset(tokenized_test, y_test)\n",
        "\n",
        "train_loader = DataLoader(train_dataset, batch_size=batch_size, shuffle=True)\n",
        "val_loader = DataLoader(val_dataset, batch_size=batch_size)\n",
        "test_loader = DataLoader(test_dataset, batch_size=batch_size)\n"
      ]
    },
    {
      "cell_type": "markdown",
      "id": "22ecfba4",
      "metadata": {
        "id": "22ecfba4"
      },
      "source": [
        "## Bidirectional GRU Model"
      ]
    },
    {
      "cell_type": "code",
      "execution_count": null,
      "id": "16141b5f",
      "metadata": {
        "id": "16141b5f"
      },
      "outputs": [],
      "source": [
        "import torch\n",
        "import torch.nn as nn\n",
        "from torch.utils.data import DataLoader\n",
        "from transformers import AutoModel\n",
        "from tqdm import tqdm\n",
        "\n",
        "class BiGRUMultiLabelModel(nn.Module):\n",
        "    def __init__(self, hidden_dim=128, num_labels=4):\n",
        "        super().__init__()\n",
        "        self.marbert = AutoModel.from_pretrained(\"UBC-NLP/MARBERT\")\n",
        "        embedding_dim = self.marbert.config.hidden_size  # 768\n",
        "\n",
        "        for param in self.marbert.parameters():\n",
        "            param.requires_grad = False  # freeze MARBERT\n",
        "\n",
        "        self.gru = nn.GRU(\n",
        "            input_size=embedding_dim,\n",
        "            hidden_size=hidden_dim,\n",
        "            bidirectional=True,\n",
        "            batch_first=True\n",
        "        )\n",
        "\n",
        "        self.dropout = nn.Dropout(0.3)\n",
        "        self.fc = nn.Linear(hidden_dim * 2, num_labels)\n",
        "\n",
        "    def forward(self, input_ids, attention_mask):\n",
        "        with torch.no_grad():\n",
        "            embeddings = self.marbert(input_ids=input_ids, attention_mask=attention_mask).last_hidden_state\n",
        "\n",
        "        rnn_out, _ = self.gru(embeddings)\n",
        "        pooled = torch.mean(rnn_out, dim=1)\n",
        "        logits = self.fc(self.dropout(pooled))\n",
        "        return logits\n",
        "\n",
        "\n"
      ]
    },
    {
      "cell_type": "code",
      "execution_count": null,
      "id": "548665fe",
      "metadata": {
        "id": "548665fe"
      },
      "outputs": [],
      "source": [
        "def train_model(model, train_loader, val_loader, optimizer, device, num_epochs=10):\n",
        "    model.to(device)\n",
        "    criterion = nn.BCEWithLogitsLoss()\n",
        "\n",
        "    for epoch in range(num_epochs):\n",
        "        model.train()\n",
        "        total_loss = 0\n",
        "        print(f\"\\n🔁 Epoch {epoch + 1}/{num_epochs}\")\n",
        "\n",
        "        for batch in tqdm(train_loader, desc=\"Training\"):\n",
        "            input_ids = batch['input_ids'].to(device)\n",
        "            attention_mask = batch['attention_mask'].to(device)\n",
        "            labels = batch['labels'].to(device)\n",
        "\n",
        "            logits = model(input_ids, attention_mask)\n",
        "            loss = criterion(logits, labels)\n",
        "\n",
        "            optimizer.zero_grad()\n",
        "            loss.backward()\n",
        "            optimizer.step()\n",
        "\n",
        "            total_loss += loss.item()\n",
        "\n",
        "        avg_train_loss = total_loss / len(train_loader)\n",
        "        print(f\"✅ Avg training loss: {avg_train_loss:.4f}\")\n",
        "\n",
        "        # --- Validation ---\n",
        "        model.eval()\n",
        "        val_loss = 0\n",
        "\n",
        "        with torch.no_grad():\n",
        "            for batch in tqdm(val_loader, desc=\"Validating\"):\n",
        "                input_ids = batch['input_ids'].to(device)\n",
        "                attention_mask = batch['attention_mask'].to(device)\n",
        "                labels = batch['labels'].to(device)\n",
        "\n",
        "                logits = model(input_ids, attention_mask)\n",
        "                loss = criterion(logits, labels)\n",
        "                val_loss += loss.item()\n",
        "\n",
        "        avg_val_loss = val_loss / len(val_loader)\n",
        "        print(f\"🔍 Avg validation loss: {avg_val_loss:.4f}\")\n"
      ]
    },
    {
      "cell_type": "code",
      "execution_count": null,
      "id": "e775b781",
      "metadata": {
        "id": "e775b781"
      },
      "outputs": [],
      "source": [
        "def save_model(model, path=\"bigru_fc_only.pt\"):\n",
        "    trainable_state_dict = {\n",
        "        k: v for k, v in model.state_dict().items()\n",
        "        if k.startswith(\"gru\") or k.startswith(\"fc\")\n",
        "    }\n",
        "    torch.save(trainable_state_dict, path)\n"
      ]
    },
    {
      "cell_type": "code",
      "execution_count": null,
      "id": "43214198",
      "metadata": {
        "id": "43214198"
      },
      "outputs": [],
      "source": [
        "def load_model(path=\"bigru_fc_only.pt\", device=None):\n",
        "    model = BiGRUMultiLabelModel()\n",
        "    saved_state = torch.load(path, map_location=device or \"cpu\")\n",
        "\n",
        "    full_state = model.state_dict()\n",
        "    full_state.update(saved_state)\n",
        "    model.load_state_dict(full_state)\n",
        "\n",
        "    if device:\n",
        "        model.to(device)\n",
        "    model.eval()\n",
        "    return model"
      ]
    },
    {
      "cell_type": "code",
      "execution_count": null,
      "id": "b6fb7b11",
      "metadata": {
        "id": "b6fb7b11",
        "outputId": "e499254c-ab9b-4cdb-ea63-cf41f7e17b13"
      },
      "outputs": [
        {
          "name": "stdout",
          "output_type": "stream",
          "text": [
            "\n",
            "🔁 Epoch 1/5\n"
          ]
        },
        {
          "name": "stderr",
          "output_type": "stream",
          "text": [
            "Training: 100%|██████████| 118/118 [02:14<00:00,  1.14s/it]\n"
          ]
        },
        {
          "name": "stdout",
          "output_type": "stream",
          "text": [
            "✅ Avg training loss: 0.5663\n"
          ]
        },
        {
          "name": "stderr",
          "output_type": "stream",
          "text": [
            "Validating: 100%|██████████| 28/28 [00:26<00:00,  1.06it/s]\n"
          ]
        },
        {
          "name": "stdout",
          "output_type": "stream",
          "text": [
            "🔍 Avg validation loss: 0.4881\n",
            "\n",
            "🔁 Epoch 2/5\n"
          ]
        },
        {
          "name": "stderr",
          "output_type": "stream",
          "text": [
            "Training: 100%|██████████| 118/118 [02:14<00:00,  1.14s/it]\n"
          ]
        },
        {
          "name": "stdout",
          "output_type": "stream",
          "text": [
            "✅ Avg training loss: 0.4569\n"
          ]
        },
        {
          "name": "stderr",
          "output_type": "stream",
          "text": [
            "Validating: 100%|██████████| 28/28 [00:26<00:00,  1.07it/s]\n"
          ]
        },
        {
          "name": "stdout",
          "output_type": "stream",
          "text": [
            "🔍 Avg validation loss: 0.4394\n",
            "\n",
            "🔁 Epoch 3/5\n"
          ]
        },
        {
          "name": "stderr",
          "output_type": "stream",
          "text": [
            "Training: 100%|██████████| 118/118 [02:17<00:00,  1.16s/it]\n"
          ]
        },
        {
          "name": "stdout",
          "output_type": "stream",
          "text": [
            "✅ Avg training loss: 0.4175\n"
          ]
        },
        {
          "name": "stderr",
          "output_type": "stream",
          "text": [
            "Validating: 100%|██████████| 28/28 [00:26<00:00,  1.05it/s]\n"
          ]
        },
        {
          "name": "stdout",
          "output_type": "stream",
          "text": [
            "🔍 Avg validation loss: 0.4281\n",
            "\n",
            "🔁 Epoch 4/5\n"
          ]
        },
        {
          "name": "stderr",
          "output_type": "stream",
          "text": [
            "Training: 100%|██████████| 118/118 [02:18<00:00,  1.17s/it]\n"
          ]
        },
        {
          "name": "stdout",
          "output_type": "stream",
          "text": [
            "✅ Avg training loss: 0.3980\n"
          ]
        },
        {
          "name": "stderr",
          "output_type": "stream",
          "text": [
            "Validating: 100%|██████████| 28/28 [00:26<00:00,  1.04it/s]\n"
          ]
        },
        {
          "name": "stdout",
          "output_type": "stream",
          "text": [
            "🔍 Avg validation loss: 0.4276\n",
            "\n",
            "🔁 Epoch 5/5\n"
          ]
        },
        {
          "name": "stderr",
          "output_type": "stream",
          "text": [
            "Training: 100%|██████████| 118/118 [02:20<00:00,  1.19s/it]\n"
          ]
        },
        {
          "name": "stdout",
          "output_type": "stream",
          "text": [
            "✅ Avg training loss: 0.3863\n"
          ]
        },
        {
          "name": "stderr",
          "output_type": "stream",
          "text": [
            "Validating: 100%|██████████| 28/28 [00:27<00:00,  1.02it/s]"
          ]
        },
        {
          "name": "stdout",
          "output_type": "stream",
          "text": [
            "🔍 Avg validation loss: 0.4187\n"
          ]
        },
        {
          "name": "stderr",
          "output_type": "stream",
          "text": [
            "\n"
          ]
        }
      ],
      "source": [
        "device = torch.device(\"cuda\" if torch.cuda.is_available() else \"cpu\")\n",
        "model = BiGRUMultiLabelModel()\n",
        "optimizer = torch.optim.Adam(model.parameters(), lr=1e-3)\n",
        "\n",
        "# Train\n",
        "train_model(model, train_loader, val_loader, optimizer, device, num_epochs=5)"
      ]
    },
    {
      "cell_type": "code",
      "execution_count": null,
      "id": "14d54731",
      "metadata": {
        "id": "14d54731"
      },
      "outputs": [],
      "source": [
        "# Save only GRU/FC weights\n",
        "save_model(model, \"bigru_fc_only.pt\")\n"
      ]
    },
    {
      "cell_type": "markdown",
      "id": "ddfaf4e5",
      "metadata": {
        "id": "ddfaf4e5"
      },
      "source": [
        "## Evaluation"
      ]
    },
    {
      "cell_type": "code",
      "execution_count": null,
      "id": "2a9cf91f",
      "metadata": {
        "id": "2a9cf91f"
      },
      "outputs": [],
      "source": [
        "from sklearn.metrics import classification_report, f1_score, precision_score, recall_score\n",
        "import numpy as np\n",
        "import torch\n",
        "\n",
        "def evaluate_model(model, dataloader, threshold=0.5):\n",
        "    model.eval()\n",
        "    all_labels = []\n",
        "    all_preds = []\n",
        "\n",
        "    with torch.no_grad():\n",
        "        for batch in dataloader:\n",
        "            input_ids = batch['input_ids'].to(device)\n",
        "            attention_mask = batch['attention_mask'].to(device)\n",
        "            labels = batch['labels'].cpu().numpy()\n",
        "            logits = model(input_ids, attention_mask)\n",
        "            probs = torch.sigmoid(logits).cpu().numpy()\n",
        "            preds = (probs >= threshold).astype(int)\n",
        "\n",
        "            all_labels.append(labels)\n",
        "            all_preds.append(preds)\n",
        "\n",
        "    all_labels = np.vstack(all_labels)\n",
        "    all_preds = np.vstack(all_preds)\n",
        "\n",
        "    print(\"📊 Classification Report (per label):\")\n",
        "    print(classification_report(all_labels, all_preds, target_names=label_cols, zero_division=0))\n",
        "\n",
        "    print(\"🔍 Macro F1:\", f1_score(all_labels, all_preds, average='macro'))\n",
        "    print(\"🔍 Micro F1:\", f1_score(all_labels, all_preds, average='micro'))\n"
      ]
    },
    {
      "cell_type": "markdown",
      "id": "LQks9NU3PGrL",
      "metadata": {
        "id": "LQks9NU3PGrL"
      },
      "source": [
        "## Analysis:\n",
        "Function handles macro/micro F1 which are crucial for multilabel tasks.\n",
        "Improvement: Add Hamming loss or per-label ROC for deeper insight."
      ]
    },
    {
      "cell_type": "code",
      "execution_count": null,
      "id": "2a76926d",
      "metadata": {
        "id": "2a76926d",
        "outputId": "8c6bc2c3-016b-40c0-fe28-975de880b351"
      },
      "outputs": [
        {
          "name": "stdout",
          "output_type": "stream",
          "text": [
            "📊 Classification Report (per label):\n",
            "                     precision    recall  f1-score   support\n",
            "\n",
            "         bug_report       0.82      0.79      0.80       245\n",
            "improvement_request       0.79      0.58      0.67       216\n",
            "             rating       0.93      0.82      0.87       395\n",
            "             others       0.67      0.57      0.62       154\n",
            "\n",
            "          micro avg       0.84      0.72      0.78      1010\n",
            "          macro avg       0.80      0.69      0.74      1010\n",
            "       weighted avg       0.83      0.72      0.77      1010\n",
            "        samples avg       0.87      0.79      0.80      1010\n",
            "\n",
            "🔍 Macro F1: 0.7408389562025618\n",
            "🔍 Micro F1: 0.7755968169761274\n"
          ]
        }
      ],
      "source": [
        "evaluate_model(model, test_loader)\n"
      ]
    },
    {
      "cell_type": "markdown",
      "id": "EpeDnVREPJNj",
      "metadata": {
        "id": "EpeDnVREPJNj"
      },
      "source": [
        "## Analysis:\n",
        "Metrics show room for improving recall in low-frequency labels.\n",
        "Improvement: Calibrate threshold per label or use focal loss."
      ]
    },
    {
      "cell_type": "code",
      "execution_count": null,
      "id": "625703ef",
      "metadata": {
        "id": "625703ef"
      },
      "outputs": [],
      "source": [
        "from sklearn.metrics import multilabel_confusion_matrix, ConfusionMatrixDisplay\n",
        "import matplotlib.pyplot as plt\n",
        "import numpy as np\n",
        "import torch\n",
        "\n",
        "def plot_confusion_matrices(model, dataloader, threshold=0.5, label_names=None):\n",
        "    model.eval()\n",
        "    all_labels = []\n",
        "    all_preds = []\n",
        "\n",
        "    with torch.no_grad():\n",
        "        for batch in dataloader:\n",
        "            input_ids = batch[\"input_ids\"].to(device)\n",
        "            attention_mask = batch[\"attention_mask\"].to(device)\n",
        "            labels = batch[\"labels\"].cpu().numpy()\n",
        "            logits = model(input_ids, attention_mask)\n",
        "            probs = torch.sigmoid(logits).cpu().numpy()\n",
        "            preds = (probs >= threshold).astype(int)\n",
        "\n",
        "            all_labels.append(labels)\n",
        "            all_preds.append(preds)\n",
        "\n",
        "    y_true = np.vstack(all_labels)\n",
        "    y_pred = np.vstack(all_preds)\n",
        "\n",
        "    # Confusion matrices for each label\n",
        "    cm_per_label = multilabel_confusion_matrix(y_true, y_pred)\n",
        "\n",
        "    fig, axes = plt.subplots(1, len(label_names), figsize=(18, 4))\n",
        "    for i, (cm, label) in enumerate(zip(cm_per_label, label_names)):\n",
        "        ConfusionMatrixDisplay(cm, display_labels=[0, 1]).plot(ax=axes[i], values_format='d')\n",
        "        axes[i].set_title(label)\n",
        "\n",
        "    plt.tight_layout()\n",
        "    plt.show()\n"
      ]
    },
    {
      "cell_type": "code",
      "execution_count": null,
      "id": "456f7ccf",
      "metadata": {
        "id": "456f7ccf",
        "outputId": "0c2892e0-1e8d-424d-83f1-dad1bbac64dd"
      },
      "outputs": [
        {
          "data": {
            "image/png": "[encoded data removed]",
            "text/plain": [
              "<Figure size 1800x400 with 8 Axes>"
            ]
          },
          "metadata": {},
          "output_type": "display_data"
        }
      ],
      "source": [
        "label_cols = ['bug_report', 'improvement_request', 'rating', 'others']\n",
        "plot_confusion_matrices(model, test_loader, threshold=0.5, label_names=label_cols)\n"
      ]
    },
    {
      "cell_type": "markdown",
      "id": "8dfbf2bb",
      "metadata": {
        "id": "8dfbf2bb"
      },
      "source": [
        "## Analysis:\n",
        "Pretrained embeddings improve multilabel classification.\n",
        "Improvement: Try contextual embeddings like BERT for Arabic."
      ]
    },
    {
      "cell_type": "markdown",
      "id": "55605ddd",
      "metadata": {
        "id": "55605ddd"
      },
      "source": [
        "# Part E"
      ]
    },
    {
      "cell_type": "code",
      "execution_count": null,
      "id": "5b1fdf6b",
      "metadata": {
        "id": "5b1fdf6b"
      },
      "outputs": [],
      "source": [
        "import torch\n",
        "import torch.nn as nn\n",
        "from transformers import AutoTokenizer, AutoModel\n",
        "from tqdm import tqdm\n",
        "\n",
        "device = torch.device(\"cuda\" if torch.cuda.is_available() else \"cpu\")\n",
        "\n",
        "PRETRAINED_MODEL = \"UBC-NLP/MARBERT\"\n",
        "tokenizer = AutoTokenizer.from_pretrained(PRETRAINED_MODEL)\n"
      ]
    },
    {
      "cell_type": "code",
      "execution_count": null,
      "id": "20b7f178",
      "metadata": {
        "id": "20b7f178"
      },
      "outputs": [],
      "source": [
        "class MarbertClassifier(nn.Module):\n",
        "    def __init__(self, num_labels=4, dropout_rate=0.3):\n",
        "        super().__init__()\n",
        "        self.bert = AutoModel.from_pretrained(PRETRAINED_MODEL)\n",
        "        self.dropout = nn.Dropout(dropout_rate)\n",
        "        self.classifier = nn.Linear(self.bert.config.hidden_size, num_labels)\n",
        "\n",
        "    def forward(self, input_ids, attention_mask):\n",
        "        outputs = self.bert(input_ids=input_ids, attention_mask=attention_mask)\n",
        "        pooled_output = outputs.last_hidden_state[:, 0]  # [CLS] token\n",
        "        pooled_output = self.dropout(pooled_output)\n",
        "        logits = self.classifier(pooled_output)\n",
        "        return logits\n",
        "\n",
        "def freeze_all_but_last_layers(model, num_unfrozen=2):\n",
        "    for name, param in model.bert.named_parameters():\n",
        "        param.requires_grad = False  # freeze all\n",
        "        for i in range(12 - num_unfrozen, 12):\n",
        "            if f\"encoder.layer.{i}\" in name:\n",
        "                param.requires_grad = True  # unfreeze last N layers\n"
      ]
    },
    {
      "cell_type": "code",
      "execution_count": null,
      "id": "274b05ca",
      "metadata": {
        "id": "274b05ca"
      },
      "outputs": [],
      "source": [
        "def calculate_accuracy(logits, labels, threshold=0.5):\n",
        "    probs = torch.sigmoid(logits)\n",
        "    preds = (probs > threshold).float()\n",
        "    correct = (preds == labels).float().sum()\n",
        "    total = torch.numel(preds)\n",
        "    return (correct / total).item()\n",
        "\n",
        "def evaluate(model, val_loader, device, threshold=0.5):\n",
        "    model.eval()\n",
        "    y_true, y_pred = [], []\n",
        "\n",
        "    with torch.no_grad():\n",
        "        for batch in tqdm(val_loader, desc=\"Evaluating\"):\n",
        "            input_ids = batch[\"input_ids\"].to(device)\n",
        "            attention_mask = batch[\"attention_mask\"].to(device)\n",
        "            labels = batch[\"labels\"].cpu().numpy()\n",
        "\n",
        "            logits = model(input_ids, attention_mask)\n",
        "            probs = torch.sigmoid(logits).cpu().numpy()\n",
        "            preds = (probs > threshold).astype(int)\n",
        "\n",
        "            y_true.extend(labels)\n",
        "            y_pred.extend(preds)\n",
        "\n",
        "    print(\"\\n🔍 Classification Report:\")\n",
        "    print(classification_report(y_true, y_pred, target_names=[\"bug\", \"improve\", \"rating\", \"others\"]))\n"
      ]
    },
    {
      "cell_type": "code",
      "execution_count": null,
      "id": "db6f6a5a",
      "metadata": {
        "id": "db6f6a5a"
      },
      "outputs": [],
      "source": [
        "def train(model, train_loader, val_loader, device, num_epochs=5):\n",
        "    model.to(device)\n",
        "    criterion = nn.BCEWithLogitsLoss()\n",
        "    optimizer = torch.optim.AdamW(filter(lambda p: p.requires_grad, model.parameters()), lr=2e-5)\n",
        "\n",
        "    train_accuracies = []\n",
        "    val_accuracies = []\n",
        "\n",
        "    for epoch in range(num_epochs):\n",
        "        model.train()\n",
        "        total_loss = 0\n",
        "        total_acc = 0\n",
        "\n",
        "        for batch in tqdm(train_loader, desc=f\"Epoch {epoch+1} - Training\"):\n",
        "            input_ids = batch[\"input_ids\"].to(device)\n",
        "            attention_mask = batch[\"attention_mask\"].to(device)\n",
        "            labels = batch[\"labels\"].float().to(device)\n",
        "\n",
        "            logits = model(input_ids, attention_mask)\n",
        "            loss = criterion(logits, labels)\n",
        "            acc = calculate_accuracy(logits, labels)\n",
        "\n",
        "            optimizer.zero_grad()\n",
        "            loss.backward()\n",
        "            optimizer.step()\n",
        "\n",
        "            total_loss += loss.item()\n",
        "            total_acc += acc\n",
        "\n",
        "        avg_train_loss = total_loss / len(train_loader)\n",
        "        avg_train_acc = total_acc / len(train_loader)\n",
        "\n",
        "        train_accuracies.append(avg_train_acc)\n",
        "\n",
        "        print(f\"✅ Epoch {epoch+1}: Train Loss: {avg_train_loss:.4f}, Acc: {avg_train_acc:.4f}\")\n",
        "\n",
        "        # Evaluate on validation set\n",
        "        val_acc = 0\n",
        "        model.eval()\n",
        "        with torch.no_grad():\n",
        "            for batch in val_loader:\n",
        "                input_ids = batch[\"input_ids\"].to(device)\n",
        "                attention_mask = batch[\"attention_mask\"].to(device)\n",
        "                labels = batch[\"labels\"].float().to(device)\n",
        "\n",
        "                logits = model(input_ids, attention_mask)\n",
        "                acc = calculate_accuracy(logits, labels)\n",
        "                val_acc += acc\n",
        "\n",
        "        avg_val_acc = val_acc / len(val_loader)\n",
        "        val_accuracies.append(avg_val_acc)\n",
        "\n",
        "        print(f\"🧪 Validation Accuracy: {avg_val_acc:.4f}\")\n",
        "        evaluate(model, val_loader, device)\n",
        "\n",
        "    # Plot\n",
        "    plt.plot(train_accuracies, label=\"Train Accuracy\")\n",
        "    plt.plot(val_accuracies, label=\"Validation Accuracy\")\n",
        "    plt.xlabel(\"Epoch\")\n",
        "    plt.ylabel(\"Accuracy\")\n",
        "    plt.title(\"Train vs Validation Accuracy\")\n",
        "    plt.legend()\n",
        "    plt.grid(True)\n",
        "    plt.show()\n"
      ]
    },
    {
      "cell_type": "code",
      "execution_count": null,
      "id": "c38a045d",
      "metadata": {
        "id": "c38a045d",
        "outputId": "35297059-b1cd-441d-b364-01734d24c99b"
      },
      "outputs": [
        {
          "name": "stderr",
          "output_type": "stream",
          "text": [
            "Epoch 1 - Training: 100%|██████████| 118/118 [02:59<00:00,  1.52s/it]\n"
          ]
        },
        {
          "name": "stdout",
          "output_type": "stream",
          "text": [
            "✅ Epoch 1: Train Loss: 0.5576, Acc: 0.7106\n",
            "🧪 Validation Accuracy: 0.7814\n"
          ]
        },
        {
          "name": "stderr",
          "output_type": "stream",
          "text": [
            "Evaluating: 100%|██████████| 28/28 [00:39<00:00,  1.40s/it]\n",
            "c:\\Users\\moaat\\AppData\\Local\\Programs\\Python\\Python312\\Lib\\site-packages\\sklearn\\metrics\\_classification.py:1565: UndefinedMetricWarning: Precision is ill-defined and being set to 0.0 in samples with no predicted labels. Use `zero_division` parameter to control this behavior.\n",
            "  _warn_prf(average, modifier, f\"{metric.capitalize()} is\", len(result))\n"
          ]
        },
        {
          "name": "stdout",
          "output_type": "stream",
          "text": [
            "\n",
            "🔍 Classification Report:\n",
            "              precision    recall  f1-score   support\n",
            "\n",
            "         bug       0.80      0.76      0.78       162\n",
            "     improve       0.70      0.49      0.58       147\n",
            "      rating       0.83      0.92      0.87       303\n",
            "      others       0.94      0.23      0.37       146\n",
            "\n",
            "   micro avg       0.81      0.67      0.73       758\n",
            "   macro avg       0.82      0.60      0.65       758\n",
            "weighted avg       0.82      0.67      0.70       758\n",
            " samples avg       0.83      0.73      0.74       758\n",
            "\n"
          ]
        },
        {
          "name": "stderr",
          "output_type": "stream",
          "text": [
            "Epoch 2 - Training: 100%|██████████| 118/118 [04:02<00:00,  2.06s/it]\n"
          ]
        },
        {
          "name": "stdout",
          "output_type": "stream",
          "text": [
            "✅ Epoch 2: Train Loss: 0.4202, Acc: 0.8073\n",
            "🧪 Validation Accuracy: 0.8240\n"
          ]
        },
        {
          "name": "stderr",
          "output_type": "stream",
          "text": [
            "Evaluating: 100%|██████████| 28/28 [00:38<00:00,  1.36s/it]\n",
            "c:\\Users\\moaat\\AppData\\Local\\Programs\\Python\\Python312\\Lib\\site-packages\\sklearn\\metrics\\_classification.py:1565: UndefinedMetricWarning: Precision is ill-defined and being set to 0.0 in samples with no predicted labels. Use `zero_division` parameter to control this behavior.\n",
            "  _warn_prf(average, modifier, f\"{metric.capitalize()} is\", len(result))\n"
          ]
        },
        {
          "name": "stdout",
          "output_type": "stream",
          "text": [
            "\n",
            "🔍 Classification Report:\n",
            "              precision    recall  f1-score   support\n",
            "\n",
            "         bug       0.83      0.83      0.83       162\n",
            "     improve       0.70      0.76      0.73       147\n",
            "      rating       0.88      0.91      0.90       303\n",
            "      others       0.83      0.42      0.56       146\n",
            "\n",
            "   micro avg       0.82      0.77      0.80       758\n",
            "   macro avg       0.81      0.73      0.75       758\n",
            "weighted avg       0.83      0.77      0.79       758\n",
            " samples avg       0.85      0.83      0.81       758\n",
            "\n"
          ]
        },
        {
          "name": "stderr",
          "output_type": "stream",
          "text": [
            "Epoch 3 - Training: 100%|██████████| 118/118 [03:16<00:00,  1.67s/it]\n"
          ]
        },
        {
          "name": "stdout",
          "output_type": "stream",
          "text": [
            "✅ Epoch 3: Train Loss: 0.3712, Acc: 0.8328\n",
            "🧪 Validation Accuracy: 0.8224\n"
          ]
        },
        {
          "name": "stderr",
          "output_type": "stream",
          "text": [
            "Evaluating: 100%|██████████| 28/28 [00:22<00:00,  1.24it/s]\n",
            "c:\\Users\\moaat\\AppData\\Local\\Programs\\Python\\Python312\\Lib\\site-packages\\sklearn\\metrics\\_classification.py:1565: UndefinedMetricWarning: Precision is ill-defined and being set to 0.0 in samples with no predicted labels. Use `zero_division` parameter to control this behavior.\n",
            "  _warn_prf(average, modifier, f\"{metric.capitalize()} is\", len(result))\n"
          ]
        },
        {
          "name": "stdout",
          "output_type": "stream",
          "text": [
            "\n",
            "🔍 Classification Report:\n",
            "              precision    recall  f1-score   support\n",
            "\n",
            "         bug       0.83      0.81      0.82       162\n",
            "     improve       0.71      0.65      0.68       147\n",
            "      rating       0.88      0.93      0.91       303\n",
            "      others       0.84      0.44      0.58       146\n",
            "\n",
            "   micro avg       0.83      0.76      0.79       758\n",
            "   macro avg       0.82      0.71      0.74       758\n",
            "weighted avg       0.83      0.76      0.78       758\n",
            " samples avg       0.86      0.82      0.81       758\n",
            "\n"
          ]
        },
        {
          "name": "stderr",
          "output_type": "stream",
          "text": [
            "Epoch 4 - Training: 100%|██████████| 118/118 [02:36<00:00,  1.32s/it]\n"
          ]
        },
        {
          "name": "stdout",
          "output_type": "stream",
          "text": [
            "✅ Epoch 4: Train Loss: 0.3381, Acc: 0.8526\n",
            "🧪 Validation Accuracy: 0.8222\n"
          ]
        },
        {
          "name": "stderr",
          "output_type": "stream",
          "text": [
            "Evaluating: 100%|██████████| 28/28 [00:26<00:00,  1.04it/s]\n"
          ]
        },
        {
          "name": "stdout",
          "output_type": "stream",
          "text": [
            "\n",
            "🔍 Classification Report:\n",
            "              precision    recall  f1-score   support\n",
            "\n",
            "         bug       0.78      0.90      0.83       162\n",
            "     improve       0.71      0.65      0.68       147\n",
            "      rating       0.87      0.94      0.90       303\n",
            "      others       0.81      0.53      0.64       146\n",
            "\n",
            "   micro avg       0.81      0.80      0.80       758\n",
            "   macro avg       0.79      0.75      0.76       758\n",
            "weighted avg       0.81      0.80      0.79       758\n",
            " samples avg       0.85      0.85      0.82       758\n",
            "\n"
          ]
        },
        {
          "name": "stderr",
          "output_type": "stream",
          "text": [
            "Epoch 5 - Training: 100%|██████████| 118/118 [02:54<00:00,  1.48s/it]\n"
          ]
        },
        {
          "name": "stdout",
          "output_type": "stream",
          "text": [
            "✅ Epoch 5: Train Loss: 0.3078, Acc: 0.8703\n",
            "🧪 Validation Accuracy: 0.8291\n"
          ]
        },
        {
          "name": "stderr",
          "output_type": "stream",
          "text": [
            "Evaluating: 100%|██████████| 28/28 [00:24<00:00,  1.16it/s]"
          ]
        },
        {
          "name": "stdout",
          "output_type": "stream",
          "text": [
            "\n",
            "🔍 Classification Report:\n",
            "              precision    recall  f1-score   support\n",
            "\n",
            "         bug       0.81      0.88      0.84       162\n",
            "     improve       0.68      0.80      0.73       147\n",
            "      rating       0.87      0.94      0.90       303\n",
            "      others       0.77      0.55      0.64       146\n",
            "\n",
            "   micro avg       0.80      0.82      0.81       758\n",
            "   macro avg       0.78      0.79      0.78       758\n",
            "weighted avg       0.80      0.82      0.81       758\n",
            " samples avg       0.85      0.87      0.83       758\n",
            "\n"
          ]
        },
        {
          "name": "stderr",
          "output_type": "stream",
          "text": [
            "\n"
          ]
        },
        {
          "data": {
            "image/png": "[encoded data removed]",
            "text/plain": [
              "<Figure size 640x480 with 1 Axes>"
            ]
          },
          "metadata": {},
          "output_type": "display_data"
        }
      ],
      "source": [
        "model = MarbertClassifier(num_labels=4)\n",
        "freeze_all_but_last_layers(model, num_unfrozen=2)  # fine-tune last 2 layers of MARBERT\n",
        "train(model, train_loader, val_loader, device, num_epochs=5)\n"
      ]
    },
    {
      "cell_type": "markdown",
      "id": "54269a0b",
      "metadata": {
        "id": "54269a0b"
      },
      "source": [
        "## Analysis:\n",
        "Transformer-based methods likely outperform previous models.\n",
        "Improvement: Experiment with more epochs or layer unfreezing."
      ]
    },
    {
      "cell_type": "markdown",
      "id": "3215da96",
      "metadata": {
        "id": "3215da96"
      },
      "source": [
        "# PART G"
      ]
    },
    {
      "cell_type": "markdown",
      "id": "a09d0c9a",
      "metadata": {
        "id": "a09d0c9a"
      },
      "source": [
        "## Zero shot"
      ]
    },
    {
      "cell_type": "code",
      "execution_count": null,
      "id": "d0ee1897",
      "metadata": {},
      "outputs": [],
      "source": [
        "aa"
      ]
    },
    {
      "cell_type": "code",
      "execution_count": null,
      "id": "3b60a459",
      "metadata": {
        "id": "3b60a459",
        "outputId": "47138eba-9d65-4089-9d3a-8ceba084cd61"
      },
      "outputs": [
        {
          "name": "stderr",
          "output_type": "stream",
          "text": [
            "Zero-Shot: 100%|██████████| 30/30 [00:33<00:00,  1.11s/it]"
          ]
        },
        {
          "name": "stdout",
          "output_type": "stream",
          "text": [
            "\n",
            "📊 Classification Report (Zero-Shot on 10 random samples):\n",
            "                     precision    recall  f1-score   support\n",
            "\n",
            "         bug_report       1.00      0.78      0.88         9\n",
            "improvement_request       0.67      0.50      0.57         8\n",
            "             rating       0.81      0.68      0.74        19\n",
            "             others       0.64      0.75      0.69        12\n",
            "\n",
            "          micro avg       0.77      0.69      0.73        48\n",
            "          macro avg       0.78      0.68      0.72        48\n",
            "       weighted avg       0.78      0.69      0.73        48\n",
            "        samples avg       0.80      0.76      0.74        48\n",
            "\n"
          ]
        },
        {
          "name": "stderr",
          "output_type": "stream",
          "text": [
            "\n"
          ]
        }
      ],
      "source": [
        "import os\n",
        "import openai\n",
        "import json\n",
        "import random\n",
        "import numpy as np\n",
        "from sklearn.metrics import classification_report\n",
        "from tqdm import tqdm\n",
        "import re\n",
        "from dotenv import load_dotenv\n",
        "import os\n",
        "\n",
        "\n",
        "# --- CONFIG ---\n",
        "load_dotenv()\n",
        "openai.api_key = os.getenv(\"OPENAI_API_KEY\")\n",
        "\n",
        "label_names = [\"bug_report\", \"improvement_request\", \"rating\", \"others\"]\n",
        "\n",
        "# --- PROMPT TEMPLATE ---\n",
        "def build_zero_shot_prompt(review):\n",
        "    return f\"\"\"You are a helpful assistant for classifying app reviews.\n",
        "\n",
        "Each review can belong to one or more of the following categories:\n",
        "- bug_report: Describes a malfunction, error, crash, or issue.\n",
        "- improvement_request: Requests a new feature or enhancement.\n",
        "- rating: Expresses overall satisfaction, score, or praise.\n",
        "- others: Anything that doesn't match the above.\n",
        "\n",
        "Classify the review into ALL applicable categories.\n",
        "\n",
        "Only return a JSON object in this format:\n",
        "{{\n",
        "  \"bug_report\": true/false,\n",
        "  \"improvement_request\": true/false,\n",
        "  \"rating\": true/false,\n",
        "  \"others\": true/false\n",
        "}}\n",
        "\n",
        "Review: \"{review}\"\n",
        "\n",
        "Output:\n",
        "\"\"\"\n",
        "\n",
        "# --- GPT QUERY ---\n",
        "def query_gpt(prompt, model=\"gpt-3.5-turbo\", max_tokens=200):\n",
        "    from openai import OpenAI\n",
        "    client = OpenAI()\n",
        "    response = client.chat.completions.create(\n",
        "        model=model,\n",
        "        messages=[{\"role\": \"user\", \"content\": prompt}],\n",
        "        temperature=0,\n",
        "        max_tokens=max_tokens\n",
        "    )\n",
        "    return response.choices[0].message.content\n",
        "\n",
        "# --- PARSE GPT OUTPUT ---\n",
        "def parse_gpt_response(response):\n",
        "    try:\n",
        "        # Extract first JSON-like block from GPT output\n",
        "        json_match = re.search(r\"\\{[\\s\\S]*?\\}\", response)\n",
        "        if not json_match:\n",
        "            raise ValueError(\"No JSON found.\")\n",
        "        json_text = json_match.group(0)\n",
        "        json_text = json_text.replace(\"True\", \"true\").replace(\"False\", \"false\")\n",
        "        parsed = json.loads(json_text)\n",
        "        return [int(bool(parsed.get(label, False))) for label in label_names]\n",
        "    except Exception as e:\n",
        "        print(\"❌ Parsing failed:\", e)\n",
        "        return [0, 0, 0, 0]\n",
        "\n",
        "# --- RUN ZERO-SHOT EVAL ---\n",
        "def zero_shot_classification(texts, true_labels, num_samples=10):\n",
        "    sample_indices = random.sample(range(len(texts)), num_samples)\n",
        "    sampled_texts = [texts[i] for i in sample_indices]\n",
        "    sampled_labels = [true_labels[i] for i in sample_indices]\n",
        "\n",
        "    predictions = []\n",
        "\n",
        "    for review in tqdm(sampled_texts, desc=\"Zero-Shot\"):\n",
        "        prompt = build_zero_shot_prompt(review)\n",
        "        gpt_output = query_gpt(prompt)\n",
        "        pred = parse_gpt_response(gpt_output)\n",
        "        predictions.append(pred)\n",
        "\n",
        "    y_pred = np.array(predictions)\n",
        "    y_true = np.array(sampled_labels)\n",
        "\n",
        "    print(\"\\n📊 Classification Report (Zero-Shot on 10 random samples):\")\n",
        "    print(classification_report(y_true, y_pred, target_names=label_names))\n",
        "\n",
        "# --- RUN IT ---\n",
        "# You must already have: X_val and y_val from your dataset\n",
        "zero_shot_classification(X_val, y_val, num_samples=30)\n"
      ]
    },
    {
      "cell_type": "markdown",
      "id": "_JwnlUGUQHgL",
      "metadata": {
        "id": "_JwnlUGUQHgL"
      },
      "source": [
        "## Analysis:\n",
        "Zero-shot results depend heavily on prompt design.\n",
        "Improvement: Use Arabic prompts or include class distribution hints."
      ]
    },
    {
      "cell_type": "markdown",
      "id": "b88c1cbc",
      "metadata": {},
      "source": [
        "## [BONUS] Study the impact of ideas such as informing the model about the class distribution (based on training data), chain-of-thought, etc."
      ]
    },
    {
      "cell_type": "code",
      "execution_count": 43,
      "id": "8b3e0c07",
      "metadata": {},
      "outputs": [],
      "source": [
        "def build_zero_shot_prompt(review, hint=None):\n",
        "    base = \"\"\"You are a helpful assistant for classifying app reviews.\n",
        "\n",
        "Each review can belong to one or more of the following categories:\n",
        "- bug_report: Describes a malfunction, error, crash, or issue.\n",
        "- improvement_request: Requests a new feature or enhancement.\n",
        "- rating: Expresses overall satisfaction, score, or praise.\n",
        "- others: Anything that doesn't match the above.\n",
        "\"\"\"\n",
        "\n",
        "    if hint == \"distribution\":\n",
        "        base += \"\\nNote: Based on previous data, the most common categories are rating and bug_report.\\n\"\n",
        "\n",
        "    base += \"\"\"\n",
        "Classify the review into ALL applicable categories.\n",
        "\n",
        "Only return a JSON object in this format:\n",
        "{{\n",
        "  \"bug_report\": true/false,\n",
        "  \"improvement_request\": true/false,\n",
        "  \"rating\": true/false,\n",
        "  \"others\": true/false\n",
        "}}\n",
        "\n",
        "Review: \"{review}\"\n",
        "\n",
        "Output:\n",
        "\"\"\"\n",
        "    return base.format(review=review)\n"
      ]
    },
    {
      "cell_type": "code",
      "execution_count": 44,
      "id": "e9da3c59",
      "metadata": {},
      "outputs": [],
      "source": [
        "def build_zero_shot_prompt_cot(review):\n",
        "    return f\"\"\"You are a helpful assistant for classifying app reviews.\n",
        "\n",
        "Each review can belong to multiple of the following categories:\n",
        "- bug_report\n",
        "- improvement_request\n",
        "- rating\n",
        "- others\n",
        "\n",
        "First, analyze the review and describe what it is about. Then decide which labels apply.\n",
        "\n",
        "Output format:\n",
        "Step-by-step analysis:\n",
        "<Your reasoning here>\n",
        "\n",
        "JSON classification:\n",
        "{{\n",
        "  \"bug_report\": true/false,\n",
        "  \"improvement_request\": true/false,\n",
        "  \"rating\": true/false,\n",
        "  \"others\": true/false\n",
        "}}\n",
        "\n",
        "Review: \"{review}\"\n",
        "\n",
        "Output:\n",
        "\"\"\"\n"
      ]
    },
    {
      "cell_type": "code",
      "execution_count": 45,
      "id": "15e2e7bf",
      "metadata": {},
      "outputs": [],
      "source": [
        "def zero_shot_classification(texts, true_labels, num_samples=30, mode=\"base\"):\n",
        "    sample_indices = random.sample(range(len(texts)), num_samples)\n",
        "    sampled_texts = [texts[i] for i in sample_indices]\n",
        "    sampled_labels = [true_labels[i] for i in sample_indices]\n",
        "\n",
        "    predictions = []\n",
        "\n",
        "    for review in tqdm(sampled_texts, desc=f\"Zero-Shot | {mode}\"):\n",
        "        if mode == \"base\":\n",
        "            prompt = build_zero_shot_prompt(review)\n",
        "        elif mode == \"distribution\":\n",
        "            prompt = build_zero_shot_prompt(review, hint=\"distribution\")\n",
        "        elif mode == \"cot\":\n",
        "            prompt = build_zero_shot_prompt_cot(review)\n",
        "        else:\n",
        "            raise ValueError(\"Invalid mode\")\n",
        "\n",
        "        gpt_output = query_gpt(prompt)\n",
        "        pred = parse_gpt_response(gpt_output)\n",
        "        predictions.append(pred)\n",
        "\n",
        "    y_pred = np.array(predictions)\n",
        "    y_true = np.array(sampled_labels)\n",
        "\n",
        "    print(f\"\\n📊 Classification Report (Zero-Shot | {mode}):\")\n",
        "    print(classification_report(y_true, y_pred, target_names=label_names))\n",
        "    return f1_score(y_true, y_pred, average=\"micro\")\n"
      ]
    },
    {
      "cell_type": "code",
      "execution_count": 46,
      "id": "61cbadab",
      "metadata": {},
      "outputs": [
        {
          "name": "stderr",
          "output_type": "stream",
          "text": [
            "Zero-Shot | base: 100%|██████████| 30/30 [00:19<00:00,  1.52it/s]\n"
          ]
        },
        {
          "name": "stdout",
          "output_type": "stream",
          "text": [
            "\n",
            "📊 Classification Report (Zero-Shot | base):\n",
            "                     precision    recall  f1-score   support\n",
            "\n",
            "         bug_report       1.00      0.50      0.67        12\n",
            "improvement_request       0.83      0.71      0.77         7\n",
            "             rating       0.89      0.67      0.76        24\n",
            "             others       0.44      0.70      0.54        10\n",
            "\n",
            "          micro avg       0.74      0.64      0.69        53\n",
            "          macro avg       0.79      0.65      0.68        53\n",
            "       weighted avg       0.82      0.64      0.70        53\n",
            "        samples avg       0.80      0.76      0.72        53\n",
            "\n"
          ]
        },
        {
          "name": "stderr",
          "output_type": "stream",
          "text": [
            "Zero-Shot | distribution: 100%|██████████| 30/30 [00:20<00:00,  1.50it/s]\n"
          ]
        },
        {
          "name": "stdout",
          "output_type": "stream",
          "text": [
            "\n",
            "📊 Classification Report (Zero-Shot | distribution):\n",
            "                     precision    recall  f1-score   support\n",
            "\n",
            "         bug_report       1.00      0.77      0.87        13\n",
            "improvement_request       0.83      0.56      0.67         9\n",
            "             rating       1.00      0.65      0.79        20\n",
            "             others       0.62      0.80      0.70        10\n",
            "\n",
            "          micro avg       0.86      0.69      0.77        52\n",
            "          macro avg       0.86      0.69      0.75        52\n",
            "       weighted avg       0.90      0.69      0.77        52\n",
            "        samples avg       0.87      0.76      0.77        52\n",
            "\n"
          ]
        },
        {
          "name": "stderr",
          "output_type": "stream",
          "text": [
            "Zero-Shot | cot: 100%|██████████| 30/30 [00:31<00:00,  1.04s/it]"
          ]
        },
        {
          "name": "stdout",
          "output_type": "stream",
          "text": [
            "\n",
            "📊 Classification Report (Zero-Shot | cot):\n",
            "                     precision    recall  f1-score   support\n",
            "\n",
            "         bug_report       0.92      0.86      0.89        14\n",
            "improvement_request       0.57      0.57      0.57         7\n",
            "             rating       0.92      0.55      0.69        20\n",
            "             others       0.58      0.64      0.61        11\n",
            "\n",
            "          micro avg       0.77      0.65      0.71        52\n",
            "          macro avg       0.75      0.65      0.69        52\n",
            "       weighted avg       0.80      0.65      0.71        52\n",
            "        samples avg       0.78      0.71      0.72        52\n",
            "\n"
          ]
        },
        {
          "name": "stderr",
          "output_type": "stream",
          "text": [
            "\n"
          ]
        },
        {
          "data": {
            "image/png": "[encoded data removed]",
            "text/plain": [
              "<Figure size 640x480 with 1 Axes>"
            ]
          },
          "metadata": {},
          "output_type": "display_data"
        }
      ],
      "source": [
        "modes = [\"base\", \"distribution\", \"cot\"]\n",
        "f1_results = []\n",
        "\n",
        "for mode in modes:\n",
        "    f1 = zero_shot_classification(X_val, y_val, num_samples=30, mode=mode)\n",
        "    f1_results.append(f1)\n",
        "\n",
        "# Plot\n",
        "import matplotlib.pyplot as plt\n",
        "plt.bar(modes, f1_results)\n",
        "plt.title(\"Zero-Shot Enhancements Comparison (Micro F1)\")\n",
        "plt.ylabel(\"F1 Score\")\n",
        "plt.show()\n"
      ]
    },
    {
      "cell_type": "markdown",
      "id": "580a2b14",
      "metadata": {},
      "source": [
        "Adding class distribution improved performance the most, especially recall on bug\\_report and others. CoT helped slightly but hurt rating, likely due to distracting reasoning. Distribution hint was the most effective zero-shot enhancement.\n"
      ]
    },
    {
      "cell_type": "markdown",
      "id": "b481bbbe",
      "metadata": {
        "id": "b481bbbe"
      },
      "source": [
        "## Few-Shot"
      ]
    },
    {
      "cell_type": "code",
      "execution_count": 25,
      "id": "327e581b",
      "metadata": {
        "id": "327e581b"
      },
      "outputs": [],
      "source": [
        "import os\n",
        "import json\n",
        "import re\n",
        "import random\n",
        "import numpy as np\n",
        "import matplotlib.pyplot as plt\n",
        "from tqdm import tqdm\n",
        "from sklearn.metrics import classification_report, f1_score\n",
        "\n",
        "from openai import OpenAI\n",
        "from dotenv import load_dotenv\n",
        "load_dotenv()\n",
        "\n",
        "client = OpenAI(api_key=os.getenv(\"OPENAI_API_KEY\"))\n",
        "\n",
        "label_names = [\"bug_report\", \"improvement_request\", \"rating\", \"others\"]\n"
      ]
    },
    {
      "cell_type": "code",
      "execution_count": 29,
      "id": "8b17167e",
      "metadata": {},
      "outputs": [],
      "source": [
        "def query_gpt(prompt, model=\"gpt-3.5-turbo\", max_tokens=200):\n",
        "    response = client.chat.completions.create(\n",
        "        model=model,\n",
        "        messages=[{\"role\": \"user\", \"content\": prompt}],\n",
        "        temperature=0,\n",
        "        max_tokens=max_tokens\n",
        "    )\n",
        "    return response.choices[0].message.content\n",
        "\n",
        "def parse_gpt_response(response):\n",
        "    try:\n",
        "        json_match = re.search(r\"\\{[\\s\\S]*?\\}\", response)\n",
        "        if not json_match:\n",
        "            raise ValueError(\"No JSON found.\")\n",
        "        json_text = json_match.group(0)\n",
        "        json_text = json_text.replace(\"True\", \"true\").replace(\"False\", \"false\")\n",
        "        parsed = json.loads(json_text)\n",
        "        return [int(bool(parsed.get(label, False))) for label in label_names]\n",
        "    except Exception as e:\n",
        "        print(\"❌ Parse failed:\", e)\n",
        "        return [0, 0, 0, 0]\n"
      ]
    },
    {
      "cell_type": "code",
      "execution_count": 23,
      "id": "cd60f108",
      "metadata": {
        "id": "cd60f108"
      },
      "outputs": [],
      "source": [
        "def build_few_shot_prompt(review, examples):\n",
        "    prompt = (\n",
        "        \"You are a helpful assistant for classifying mobile app reviews.\\n\"\n",
        "        \"Each review can belong to one or more of the following categories:\\n\"\n",
        "        \"- bug_report: A malfunction, crash, or error\\n\"\n",
        "        \"- improvement_request: A request for a new feature or enhancement\\n\"\n",
        "        \"- rating: General satisfaction or opinion\\n\"\n",
        "        \"- others: Anything that doesn't fit the above\\n\\n\"\n",
        "        \"Classify the review into all applicable categories. Always return at least one label.\\n\\n\"\n",
        "        \"Format:\\n{\\n  \\\"bug_report\\\": true/false,\\n  \\\"improvement_request\\\": true/false,\\n  \"\n",
        "        \"\\\"rating\\\": true/false,\\n  \\\"others\\\": true/false\\n}\\n\\n\"\n",
        "    )\n",
        "\n",
        "    for ex_text, ex_labels in examples:\n",
        "        ex_json = {\n",
        "            \"bug_report\": bool(ex_labels[0]),\n",
        "            \"improvement_request\": bool(ex_labels[1]),\n",
        "            \"rating\": bool(ex_labels[2]),\n",
        "            \"others\": bool(ex_labels[3])\n",
        "        }\n",
        "        prompt += f'Example:\\nReview: \"{ex_text}\"\\nOutput:\\n{json.dumps(ex_json)}\\n\\n'\n",
        "\n",
        "    prompt += f'Review: \"{review}\"\\nOutput:\\n'\n",
        "    return prompt\n"
      ]
    },
    {
      "cell_type": "code",
      "execution_count": null,
      "id": "78265cbf",
      "metadata": {
        "id": "78265cbf"
      },
      "outputs": [],
      "source": [
        "def evaluate_few_shot(n_shots=3, num_samples=30):\n",
        "    example_indices = random.sample(range(len(X_train)), n_shots)\n",
        "    examples = [(X_train[i], y_train[i]) for i in example_indices]\n",
        "\n",
        "    sample_indices = random.sample(range(len(X_val)), num_samples)\n",
        "    sampled_texts = [X_val[i] for i in sample_indices]\n",
        "    sampled_labels = [y_val[i] for i in sample_indices]\n",
        "\n",
        "    predictions = []\n",
        "\n",
        "    for review in tqdm(sampled_texts, desc=f\"{n_shots}-shot\"):\n",
        "        prompt = build_few_shot_prompt(review, examples)\n",
        "        gpt_output = query_gpt(prompt)\n",
        "        pred = parse_gpt_response(gpt_output)\n",
        "        predictions.append(pred)\n",
        "\n",
        "    y_pred = np.array(predictions)\n",
        "    y_true = np.array(sampled_labels)\n",
        "\n",
        "    print(f\"\\n📊 Classification Report ({n_shots}-shot):\")\n",
        "    print(classification_report(y_true, y_pred, target_names=label_names))\n",
        "\n",
        "    return f1_score(y_true, y_pred, average=\"micro\")\n"
      ]
    },
    {
      "cell_type": "code",
      "execution_count": null,
      "id": "7983417c",
      "metadata": {
        "id": "7983417c",
        "outputId": "ec316154-f1d4-41ee-874c-01d8d1a33a26"
      },
      "outputs": [
        {
          "name": "stderr",
          "output_type": "stream",
          "text": [
            "0-shot: 100%|██████████| 30/30 [00:32<00:00,  1.10s/it]\n"
          ]
        },
        {
          "name": "stdout",
          "output_type": "stream",
          "text": [
            "\n",
            "📊 Classification Report (0-shot):\n",
            "                     precision    recall  f1-score   support\n",
            "\n",
            "         bug_report       1.00      0.57      0.73        14\n",
            "improvement_request       0.73      0.73      0.73        11\n",
            "             rating       0.71      0.67      0.69        18\n",
            "             others       0.80      0.53      0.64        15\n",
            "\n",
            "          micro avg       0.78      0.62      0.69        58\n",
            "          macro avg       0.81      0.62      0.70        58\n",
            "       weighted avg       0.81      0.62      0.69        58\n",
            "        samples avg       0.80      0.70      0.71        58\n",
            "\n"
          ]
        },
        {
          "name": "stderr",
          "output_type": "stream",
          "text": [
            "1-shot: 100%|██████████| 30/30 [00:32<00:00,  1.08s/it]\n"
          ]
        },
        {
          "name": "stdout",
          "output_type": "stream",
          "text": [
            "\n",
            "📊 Classification Report (1-shot):\n",
            "                     precision    recall  f1-score   support\n",
            "\n",
            "         bug_report       1.00      0.75      0.86        12\n",
            "improvement_request       0.50      0.57      0.53         7\n",
            "             rating       0.77      0.56      0.65        18\n",
            "             others       0.57      0.40      0.47        10\n",
            "\n",
            "          micro avg       0.73      0.57      0.64        47\n",
            "          macro avg       0.71      0.57      0.63        47\n",
            "       weighted avg       0.75      0.57      0.65        47\n",
            "        samples avg       0.77      0.64      0.67        47\n",
            "\n"
          ]
        },
        {
          "name": "stderr",
          "output_type": "stream",
          "text": [
            "3-shot: 100%|██████████| 30/30 [00:32<00:00,  1.09s/it]\n"
          ]
        },
        {
          "name": "stdout",
          "output_type": "stream",
          "text": [
            "\n",
            "📊 Classification Report (3-shot):\n",
            "                     precision    recall  f1-score   support\n",
            "\n",
            "         bug_report       1.00      0.80      0.89        10\n",
            "improvement_request       0.75      0.67      0.71         9\n",
            "             rating       0.85      0.96      0.90        23\n",
            "             others       0.82      0.75      0.78        12\n",
            "\n",
            "          micro avg       0.85      0.83      0.84        54\n",
            "          macro avg       0.85      0.79      0.82        54\n",
            "       weighted avg       0.85      0.83      0.84        54\n",
            "        samples avg       0.87      0.88      0.84        54\n",
            "\n"
          ]
        },
        {
          "name": "stderr",
          "output_type": "stream",
          "text": [
            "5-shot: 100%|██████████| 30/30 [00:31<00:00,  1.06s/it]"
          ]
        },
        {
          "name": "stdout",
          "output_type": "stream",
          "text": [
            "\n",
            "📊 Classification Report (5-shot):\n",
            "                     precision    recall  f1-score   support\n",
            "\n",
            "         bug_report       1.00      0.70      0.82        10\n",
            "improvement_request       0.75      0.82      0.78        11\n",
            "             rating       0.83      0.65      0.73        23\n",
            "             others       0.50      0.67      0.57         6\n",
            "\n",
            "          micro avg       0.78      0.70      0.74        50\n",
            "          macro avg       0.77      0.71      0.73        50\n",
            "       weighted avg       0.81      0.70      0.74        50\n",
            "        samples avg       0.78      0.76      0.74        50\n",
            "\n"
          ]
        },
        {
          "name": "stderr",
          "output_type": "stream",
          "text": [
            "\n"
          ]
        },
        {
          "data": {
            "image/png": "[encoded data removed]",
            "text/plain": [
              "<Figure size 600x400 with 1 Axes>"
            ]
          },
          "metadata": {},
          "output_type": "display_data"
        }
      ],
      "source": [
        "shot_counts = [0, 1, 3, 5]\n",
        "f1_results = []\n",
        "\n",
        "for n_shots in shot_counts:\n",
        "    f1 = evaluate_few_shot(n_shots=n_shots, num_samples=30)\n",
        "    f1_results.append(f1)\n",
        "\n",
        "plt.figure(figsize=(6, 4))\n",
        "plt.plot(shot_counts, f1_results, marker='o')\n",
        "plt.title(\"Few-Shot Performance (Micro F1)\")\n",
        "plt.xlabel(\"Number of In-Context Examples\")\n",
        "plt.ylabel(\"Micro F1 Score\")\n",
        "plt.grid(True)\n",
        "plt.xticks(shot_counts)\n",
        "plt.show()\n"
      ]
    },
    {
      "cell_type": "markdown",
      "id": "da8be3e0",
      "metadata": {},
      "source": [
        "## Analysis:\n",
        "Few-shot improves results with good demonstrations. Also accuracy varies with shot count; diminishing returns seen after a point.\n",
        "Improvement: Select demo samples using clustering or similarity. Also you may Tune number and selection strategy of shots."
      ]
    },
    {
      "cell_type": "markdown",
      "id": "6f27d48a",
      "metadata": {
        "id": "6f27d48a"
      },
      "source": [
        "## [BONUS] Random demonstration examples vs. selecting demonstration examples based on some criteria such as similarity and class labels."
      ]
    },
    {
      "cell_type": "code",
      "execution_count": 7,
      "id": "06a47480",
      "metadata": {},
      "outputs": [],
      "source": [
        "from transformers import AutoTokenizer, AutoModel\n",
        "import torch\n",
        "\n",
        "device = torch.device(\"cuda\" if torch.cuda.is_available() else \"cpu\")\n",
        "\n",
        "\n",
        "tokenizer = AutoTokenizer.from_pretrained(\"UBC-NLP/MARBERT\")\n",
        "model = AutoModel.from_pretrained(\"UBC-NLP/MARBERT\").eval().to(device)\n"
      ]
    },
    {
      "cell_type": "code",
      "execution_count": 8,
      "id": "a20020c9",
      "metadata": {},
      "outputs": [],
      "source": [
        "def get_marbert_embedding(text):\n",
        "    with torch.no_grad():\n",
        "        tokens = tokenizer(\n",
        "            text,\n",
        "            return_tensors=\"pt\",\n",
        "            padding=True,\n",
        "            truncation=True,\n",
        "            max_length=128\n",
        "        ).to(device)\n",
        "\n",
        "        outputs = model(**tokens)\n",
        "        cls_embedding = outputs.last_hidden_state[:, 0, :]  # [CLS] token\n",
        "        return cls_embedding.cpu()\n"
      ]
    },
    {
      "cell_type": "code",
      "execution_count": 14,
      "id": "db830e5f",
      "metadata": {},
      "outputs": [],
      "source": [
        "train_embeddings = torch.cat([get_marbert_embedding(text) for text in X_train])"
      ]
    },
    {
      "cell_type": "code",
      "execution_count": 16,
      "id": "6abf847a",
      "metadata": {},
      "outputs": [],
      "source": [
        "from torch.nn.functional import cosine_similarity\n",
        "\n",
        "def get_similar_examples(text, k=3):\n",
        "    query_embed = get_marbert_embedding(text).squeeze(0)\n",
        "    sims = cosine_similarity(query_embed.unsqueeze(0), train_embeddings)[0]\n",
        "    top_indices = torch.topk(sims, k).indices.tolist()\n",
        "    return [(X_train[i], y_train[i]) for i in top_indices]\n"
      ]
    },
    {
      "cell_type": "code",
      "execution_count": 17,
      "id": "8b733905",
      "metadata": {},
      "outputs": [],
      "source": [
        "def evaluate_few_shot(n_shots=3, num_samples=30, strategy=\"random\"):\n",
        "    sample_indices = random.sample(range(len(X_val)), num_samples)\n",
        "    sampled_texts = [X_val[i] for i in sample_indices]\n",
        "    sampled_labels = [y_val[i] for i in sample_indices]\n",
        "\n",
        "    predictions = []\n",
        "\n",
        "    for review in tqdm(sampled_texts, desc=f\"{n_shots}-shot | {strategy}\"):\n",
        "        if strategy == \"random\":\n",
        "            example_indices = random.sample(range(len(X_train)), n_shots)\n",
        "            examples = [(X_train[i], y_train[i]) for i in example_indices]\n",
        "        elif strategy == \"similar\":\n",
        "            examples = get_similar_examples(review, k=n_shots)\n",
        "\n",
        "        prompt = build_few_shot_prompt(review, examples)\n",
        "        gpt_output = query_gpt(prompt)\n",
        "        pred = parse_gpt_response(gpt_output)\n",
        "        predictions.append(pred)\n",
        "\n",
        "    y_pred = np.array(predictions)\n",
        "    y_true = np.array(sampled_labels)\n",
        "\n",
        "    print(f\"\\n📊 Classification Report ({n_shots}-shot | {strategy}):\")\n",
        "    print(classification_report(y_true, y_pred, target_names=label_names))\n",
        "\n",
        "    return f1_score(y_true, y_pred, average=\"micro\")\n"
      ]
    },
    {
      "cell_type": "code",
      "execution_count": 30,
      "id": "659e772b",
      "metadata": {},
      "outputs": [
        {
          "name": "stderr",
          "output_type": "stream",
          "text": [
            "0-shot | random: 100%|██████████| 30/30 [00:20<00:00,  1.48it/s]\n"
          ]
        },
        {
          "name": "stdout",
          "output_type": "stream",
          "text": [
            "\n",
            "📊 Classification Report (0-shot | random):\n",
            "                     precision    recall  f1-score   support\n",
            "\n",
            "         bug_report       0.78      0.88      0.82         8\n",
            "improvement_request       0.86      0.67      0.75         9\n",
            "             rating       0.89      0.71      0.79        24\n",
            "             others       0.80      0.73      0.76        11\n",
            "\n",
            "          micro avg       0.84      0.73      0.78        52\n",
            "          macro avg       0.83      0.74      0.78        52\n",
            "       weighted avg       0.85      0.73      0.78        52\n",
            "        samples avg       0.87      0.80      0.80        52\n",
            "\n"
          ]
        },
        {
          "name": "stderr",
          "output_type": "stream",
          "text": [
            "1-shot | random: 100%|██████████| 30/30 [00:21<00:00,  1.40it/s]\n"
          ]
        },
        {
          "name": "stdout",
          "output_type": "stream",
          "text": [
            "\n",
            "📊 Classification Report (1-shot | random):\n",
            "                     precision    recall  f1-score   support\n",
            "\n",
            "         bug_report       1.00      0.50      0.67         6\n",
            "improvement_request       0.67      0.77      0.71        13\n",
            "             rating       0.79      0.48      0.59        23\n",
            "             others       0.58      0.58      0.58        12\n",
            "\n",
            "          micro avg       0.70      0.57      0.63        54\n",
            "          macro avg       0.76      0.58      0.64        54\n",
            "       weighted avg       0.74      0.57      0.63        54\n",
            "        samples avg       0.76      0.67      0.64        54\n",
            "\n"
          ]
        },
        {
          "name": "stderr",
          "output_type": "stream",
          "text": [
            "3-shot | random: 100%|██████████| 30/30 [00:19<00:00,  1.54it/s]\n"
          ]
        },
        {
          "name": "stdout",
          "output_type": "stream",
          "text": [
            "\n",
            "📊 Classification Report (3-shot | random):\n",
            "                     precision    recall  f1-score   support\n",
            "\n",
            "         bug_report       1.00      0.62      0.77         8\n",
            "improvement_request       0.38      0.75      0.50         4\n",
            "             rating       1.00      0.88      0.94        26\n",
            "             others       0.62      0.45      0.53        11\n",
            "\n",
            "          micro avg       0.82      0.73      0.77        49\n",
            "          macro avg       0.75      0.68      0.68        49\n",
            "       weighted avg       0.86      0.73      0.78        49\n",
            "        samples avg       0.84      0.78      0.79        49\n",
            "\n"
          ]
        },
        {
          "name": "stderr",
          "output_type": "stream",
          "text": [
            "5-shot | random: 100%|██████████| 30/30 [00:20<00:00,  1.44it/s]\n"
          ]
        },
        {
          "name": "stdout",
          "output_type": "stream",
          "text": [
            "\n",
            "📊 Classification Report (5-shot | random):\n",
            "                     precision    recall  f1-score   support\n",
            "\n",
            "         bug_report       0.75      0.60      0.67        10\n",
            "improvement_request       0.89      0.62      0.73        13\n",
            "             rating       0.88      0.75      0.81        20\n",
            "             others       0.55      0.43      0.48        14\n",
            "\n",
            "          micro avg       0.78      0.61      0.69        57\n",
            "          macro avg       0.77      0.60      0.67        57\n",
            "       weighted avg       0.78      0.61      0.69        57\n",
            "        samples avg       0.82      0.71      0.71        57\n",
            "\n"
          ]
        },
        {
          "name": "stderr",
          "output_type": "stream",
          "text": [
            "0-shot | similar: 100%|██████████| 30/30 [00:20<00:00,  1.47it/s]\n"
          ]
        },
        {
          "name": "stdout",
          "output_type": "stream",
          "text": [
            "\n",
            "📊 Classification Report (0-shot | similar):\n",
            "                     precision    recall  f1-score   support\n",
            "\n",
            "         bug_report       1.00      0.42      0.59        12\n",
            "improvement_request       0.79      0.85      0.81        13\n",
            "             rating       1.00      0.55      0.71        22\n",
            "             others       0.50      0.60      0.55        10\n",
            "\n",
            "          micro avg       0.79      0.60      0.68        57\n",
            "          macro avg       0.82      0.60      0.66        57\n",
            "       weighted avg       0.86      0.60      0.68        57\n",
            "        samples avg       0.83      0.68      0.70        57\n",
            "\n"
          ]
        },
        {
          "name": "stderr",
          "output_type": "stream",
          "text": [
            "1-shot | similar: 100%|██████████| 30/30 [00:20<00:00,  1.49it/s]\n"
          ]
        },
        {
          "name": "stdout",
          "output_type": "stream",
          "text": [
            "\n",
            "📊 Classification Report (1-shot | similar):\n",
            "                     precision    recall  f1-score   support\n",
            "\n",
            "         bug_report       0.89      0.73      0.80        11\n",
            "improvement_request       0.60      0.75      0.67         8\n",
            "             rating       1.00      0.65      0.79        20\n",
            "             others       0.55      0.60      0.57        10\n",
            "\n",
            "          micro avg       0.77      0.67      0.72        49\n",
            "          macro avg       0.76      0.68      0.71        49\n",
            "       weighted avg       0.82      0.67      0.73        49\n",
            "        samples avg       0.83      0.78      0.75        49\n",
            "\n"
          ]
        },
        {
          "name": "stderr",
          "output_type": "stream",
          "text": [
            "3-shot | similar: 100%|██████████| 30/30 [00:21<00:00,  1.40it/s]\n"
          ]
        },
        {
          "name": "stdout",
          "output_type": "stream",
          "text": [
            "\n",
            "📊 Classification Report (3-shot | similar):\n",
            "                     precision    recall  f1-score   support\n",
            "\n",
            "         bug_report       1.00      0.82      0.90        11\n",
            "improvement_request       0.71      0.83      0.77        12\n",
            "             rating       1.00      0.57      0.73        21\n",
            "             others       0.67      0.75      0.71         8\n",
            "\n",
            "          micro avg       0.84      0.71      0.77        52\n",
            "          macro avg       0.85      0.74      0.78        52\n",
            "       weighted avg       0.88      0.71      0.77        52\n",
            "        samples avg       0.89      0.79      0.79        52\n",
            "\n"
          ]
        },
        {
          "name": "stderr",
          "output_type": "stream",
          "text": [
            "5-shot | similar: 100%|██████████| 30/30 [00:26<00:00,  1.14it/s]"
          ]
        },
        {
          "name": "stdout",
          "output_type": "stream",
          "text": [
            "\n",
            "📊 Classification Report (5-shot | similar):\n",
            "                     precision    recall  f1-score   support\n",
            "\n",
            "         bug_report       0.83      0.45      0.59        11\n",
            "improvement_request       0.86      0.55      0.67        11\n",
            "             rating       0.93      0.58      0.72        24\n",
            "             others       0.69      0.92      0.79        12\n",
            "\n",
            "          micro avg       0.82      0.62      0.71        58\n",
            "          macro avg       0.83      0.62      0.69        58\n",
            "       weighted avg       0.85      0.62      0.70        58\n",
            "        samples avg       0.85      0.70      0.74        58\n",
            "\n"
          ]
        },
        {
          "name": "stderr",
          "output_type": "stream",
          "text": [
            "\n"
          ]
        }
      ],
      "source": [
        "\n",
        "strategies = [\"random\", \"similar\"]\n",
        "results = {strategy: [] for strategy in strategies}\n",
        "shot_counts = [0, 1, 3, 5]\n",
        "\n",
        "for strategy in strategies:\n",
        "    for n_shots in shot_counts:\n",
        "        if n_shots == 0:\n",
        "            # Zero-shot (no examples)\n",
        "            def get_similar_examples(text, k): return []\n",
        "        f1 = evaluate_few_shot(n_shots=n_shots, num_samples=30, strategy=strategy)\n",
        "        results[strategy].append(f1)\n"
      ]
    },
    {
      "cell_type": "markdown",
      "id": "b8bacc3b",
      "metadata": {},
      "source": [
        "Random few-shot prompting outperformed similarity-based selection overall. While similarity helped recall in some cases, it hurt precision—especially for rating and bug_report. Random examples offered better generalization across labels."
      ]
    },
    {
      "cell_type": "markdown",
      "id": "2ef4099c",
      "metadata": {
        "id": "2ef4099c"
      },
      "source": [
        "## [BONUS] Study the impact of ideas such as ordering of demonstration based on some criteria vs. random ordering."
      ]
    },
    {
      "cell_type": "code",
      "execution_count": null,
      "id": "158d0af8",
      "metadata": {},
      "outputs": [],
      "source": [
        "def build_few_shot_prompt(review, examples, order=\"random\"):\n",
        "    if order == \"similarity\":\n",
        "        examples = sorted(\n",
        "            examples,\n",
        "            key=lambda ex: cosine_similarity(\n",
        "                get_marbert_embedding(review),\n",
        "                get_marbert_embedding(ex[0])\n",
        "            ),\n",
        "            reverse=True\n",
        "        )\n",
        "    elif order == \"label\":\n",
        "        examples = sorted(\n",
        "            examples,\n",
        "            key=lambda ex: sum(ex[1]),  # sort by number of positive labels\n",
        "            reverse=True\n",
        "        )\n",
        "    else:\n",
        "        random.shuffle(examples)\n",
        "\n",
        "\n",
        "    for ex_text, ex_labels in examples:\n",
        "        ex_json = {\n",
        "            \"bug_report\": bool(ex_labels[0]),\n",
        "            \"improvement_request\": bool(ex_labels[1]),\n",
        "            \"rating\": bool(ex_labels[2]),\n",
        "            \"others\": bool(ex_labels[3])\n",
        "        }\n",
        "        prompt += f'Example:\\nReview: \"{ex_text}\"\\nOutput:\\n{json.dumps(ex_json)}\\n\\n'\n",
        "\n",
        "    prompt += f'Review: \"{review}\"\\nOutput:\\n'\n",
        "    return prompt\n"
      ]
    },
    {
      "cell_type": "code",
      "execution_count": 35,
      "id": "4edb85b5",
      "metadata": {},
      "outputs": [],
      "source": [
        "def evaluate_few_shot(n_shots=3, num_samples=30, strategy=\"random\", order=\"random\"):\n",
        "    sample_indices = random.sample(range(len(X_val)), num_samples)\n",
        "    sampled_texts = [X_val[i] for i in sample_indices]\n",
        "    sampled_labels = [y_val[i] for i in sample_indices]\n",
        "\n",
        "    predictions = []\n",
        "\n",
        "    for review in tqdm(sampled_texts, desc=f\"{n_shots}-shot | {strategy} | {order}\"):\n",
        "            if strategy == \"random\":\n",
        "                examples = random.sample(list(zip(X_train, y_train)), n_shots)\n",
        "            elif strategy == \"similar\":\n",
        "                examples = get_similar_examples(review, k=n_shots)\n",
        "\n",
        "            prompt = build_few_shot_prompt(review, examples, order=order)\n",
        "            gpt_output = query_gpt(prompt)\n",
        "            pred = parse_gpt_response(gpt_output)\n",
        "            predictions.append(pred)\n",
        "\n",
        "    y_pred = np.array(predictions)\n",
        "    y_true = np.array(sampled_labels)\n",
        "\n",
        "    print(f\"\\n📊 Classification Report ({n_shots}-shot | {strategy}):\")\n",
        "    print(classification_report(y_true, y_pred, target_names=label_names))\n",
        "\n",
        "    return f1_score(y_true, y_pred, average=\"micro\")\n"
      ]
    },
    {
      "cell_type": "code",
      "execution_count": 36,
      "id": "ecc45b2c",
      "metadata": {},
      "outputs": [
        {
          "name": "stderr",
          "output_type": "stream",
          "text": [
            "3-shot | random | random: 100%|██████████| 30/30 [00:19<00:00,  1.55it/s]\n"
          ]
        },
        {
          "name": "stdout",
          "output_type": "stream",
          "text": [
            "\n",
            "📊 Classification Report (3-shot | random):\n",
            "                     precision    recall  f1-score   support\n",
            "\n",
            "         bug_report       0.85      0.73      0.79        15\n",
            "improvement_request       0.63      0.92      0.75        13\n",
            "             rating       0.79      0.58      0.67        19\n",
            "             others       0.33      0.22      0.27         9\n",
            "\n",
            "          micro avg       0.69      0.64      0.67        56\n",
            "          macro avg       0.65      0.61      0.62        56\n",
            "       weighted avg       0.69      0.64      0.65        56\n",
            "        samples avg       0.73      0.71      0.69        56\n",
            "\n"
          ]
        },
        {
          "name": "stderr",
          "output_type": "stream",
          "text": [
            "3-shot | random | similarity: 100%|██████████| 30/30 [00:27<00:00,  1.07it/s]\n"
          ]
        },
        {
          "name": "stdout",
          "output_type": "stream",
          "text": [
            "\n",
            "📊 Classification Report (3-shot | random):\n",
            "                     precision    recall  f1-score   support\n",
            "\n",
            "         bug_report       0.70      0.70      0.70        10\n",
            "improvement_request       0.79      0.79      0.79        14\n",
            "             rating       0.85      0.65      0.73        17\n",
            "             others       0.67      0.27      0.38        15\n",
            "\n",
            "          micro avg       0.77      0.59      0.67        56\n",
            "          macro avg       0.75      0.60      0.65        56\n",
            "       weighted avg       0.76      0.59      0.65        56\n",
            "        samples avg       0.77      0.60      0.63        56\n",
            "\n"
          ]
        },
        {
          "name": "stderr",
          "output_type": "stream",
          "text": [
            "3-shot | random | label: 100%|██████████| 30/30 [00:17<00:00,  1.68it/s]"
          ]
        },
        {
          "name": "stdout",
          "output_type": "stream",
          "text": [
            "\n",
            "📊 Classification Report (3-shot | random):\n",
            "                     precision    recall  f1-score   support\n",
            "\n",
            "         bug_report       0.75      0.82      0.78        11\n",
            "improvement_request       0.40      0.80      0.53         5\n",
            "             rating       0.93      0.76      0.84        17\n",
            "             others       0.67      0.44      0.53         9\n",
            "\n",
            "          micro avg       0.71      0.71      0.71        42\n",
            "          macro avg       0.69      0.71      0.67        42\n",
            "       weighted avg       0.76      0.71      0.72        42\n",
            "        samples avg       0.79      0.76      0.75        42\n",
            "\n"
          ]
        },
        {
          "name": "stderr",
          "output_type": "stream",
          "text": [
            "\n"
          ]
        },
        {
          "data": {
            "image/png": "[encoded data removed]",
            "text/plain": [
              "<Figure size 640x480 with 1 Axes>"
            ]
          },
          "metadata": {},
          "output_type": "display_data"
        }
      ],
      "source": [
        "orders = [\"random\", \"similarity\", \"label\"]\n",
        "results = {order: [] for order in orders}\n",
        "\n",
        "for order in orders:\n",
        "    f1 = evaluate_few_shot(n_shots=3, num_samples=30, strategy=\"random\", order=order)\n",
        "    results[order].append(f1)\n",
        "\n",
        "# Plot\n",
        "plt.bar(results.keys(), [r[0] for r in results.values()])\n",
        "plt.title(\"Impact of Few-Shot Example Ordering\")\n",
        "plt.ylabel(\"Micro F1 Score\")\n",
        "plt.show()\n"
      ]
    },
    {
      "cell_type": "markdown",
      "id": "c1c2c7b1",
      "metadata": {},
      "source": [
        "Label-based ordering achieved the highest overall performance, with gains in recall and balanced F1 across labels. Similarity-based ordering did slightly worse, especially on \"others\", suggesting overly narrow context. Random ordering was competitive but less consistent. Ordering demonstrations by class diversity offers the best generalization."
      ]
    },
    {
      "cell_type": "code",
      "execution_count": null,
      "id": "Kw3qNcjPQS7d",
      "metadata": {
        "id": "Kw3qNcjPQS7d"
      },
      "outputs": [],
      "source": []
    }
  ],
  "metadata": {
    "colab": {
      "provenance": []
    },
    "kernelspec": {
      "display_name": "Python 3",
      "language": "python",
      "name": "python3"
    },
    "language_info": {
      "codemirror_mode": {
        "name": "ipython",
        "version": 3
      },
      "file_extension": ".py",
      "mimetype": "text/x-python",
      "name": "python",
      "nbconvert_exporter": "python",
      "pygments_lexer": "ipython3",
      "version": "3.12.2"
    }
  },
  "nbformat": 4,
  "nbformat_minor": 5
}
